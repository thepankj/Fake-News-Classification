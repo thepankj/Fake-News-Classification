{
 "cells": [
  {
   "cell_type": "markdown",
   "metadata": {
    "papermill": {
     "duration": 0.051568,
     "end_time": "2020-11-03T16:09:25.287064",
     "exception": false,
     "start_time": "2020-11-03T16:09:25.235496",
     "status": "completed"
    },
    "tags": []
   },
   "source": [
    "The Internet has not only made information accessible to the masses but also has become a hotspot of misinformation and fake news. Fake news can lead to more harm if not correctly identified and tagged. The severity of of the effects of misinformation can be judged from the fact that there have been riots and killings attributed to fake news.\n",
    "\n",
    "Fake news can even sway people's opinions and affiliations - a fact that political parties have used (and still use) to make people vote in their favour.\n",
    "\n",
    "As such, it has become necessary to segregate the real from the fake news. But this is not feasible manually thanks to the huge amount of information that is churned out every minute on the internet.\n",
    "\n",
    "To overcome this problem, machine learnng and natural languaging processing can be to automatically classify the fake from the real news."
   ]
  },
  {
   "cell_type": "markdown",
   "metadata": {
    "papermill": {
     "duration": 0.049744,
     "end_time": "2020-11-03T16:09:25.387120",
     "exception": false,
     "start_time": "2020-11-03T16:09:25.337376",
     "status": "completed"
    },
    "tags": []
   },
   "source": [
    "# Overview\n",
    "In this project, I've tried to classify the given news as fake or real, by using Naive Bayes classifier and Passive Aggressive Classifier. I tried using Naive Bayes with hyperparameter tuning. \n",
    "\n",
    "The best result was given by Passive Aggressive Classifier, with an accuracy of over 99.5%"
   ]
  },
  {
   "cell_type": "markdown",
   "metadata": {
    "papermill": {
     "duration": 0.051137,
     "end_time": "2020-11-03T16:09:25.488183",
     "exception": false,
     "start_time": "2020-11-03T16:09:25.437046",
     "status": "completed"
    },
    "tags": []
   },
   "source": [
    "# Importing necessary Libraries"
   ]
  },
  {
   "cell_type": "code",
   "execution_count": 1,
   "metadata": {
    "execution": {
     "iopub.execute_input": "2020-11-03T16:09:25.599141Z",
     "iopub.status.busy": "2020-11-03T16:09:25.598332Z",
     "iopub.status.idle": "2020-11-03T16:09:27.415771Z",
     "shell.execute_reply": "2020-11-03T16:09:27.415130Z"
    },
    "papermill": {
     "duration": 1.876701,
     "end_time": "2020-11-03T16:09:27.415944",
     "exception": false,
     "start_time": "2020-11-03T16:09:25.539243",
     "status": "completed"
    },
    "tags": []
   },
   "outputs": [],
   "source": [
    "import pandas as pd\n",
    "import numpy as np\n",
    "import seaborn as sns\n",
    "import matplotlib.pyplot as plt\n",
    "from sklearn import metrics\n",
    "import itertools\n",
    "import nltk\n",
    "from sklearn.model_selection import train_test_split\n",
    "from sklearn.metrics import plot_confusion_matrix\n",
    "%matplotlib inline"
   ]
  },
  {
   "cell_type": "markdown",
   "metadata": {
    "papermill": {
     "duration": 0.050552,
     "end_time": "2020-11-03T16:09:27.519874",
     "exception": false,
     "start_time": "2020-11-03T16:09:27.469322",
     "status": "completed"
    },
    "tags": []
   },
   "source": [
    "# Dataset\n",
    "The [dataset used here](https://www.kaggle.com/pnkjgpt/fake-news-dataset) consists of a train and a test file. The test file can be ignored as it doesn't contain the labels (as I'm doing this project as a part of a competition). We will work only on the train data.\n",
    "\n",
    "The train dataset contains 7 columns - **'index', 'title', 'text', 'subject', 'date', 'class', 'Unnamed: 6'**"
   ]
  },
  {
   "cell_type": "code",
   "execution_count": 2,
   "metadata": {
    "execution": {
     "iopub.execute_input": "2020-11-03T16:09:27.637357Z",
     "iopub.status.busy": "2020-11-03T16:09:27.636496Z",
     "iopub.status.idle": "2020-11-03T16:09:29.295261Z",
     "shell.execute_reply": "2020-11-03T16:09:29.295855Z"
    },
    "papermill": {
     "duration": 1.723887,
     "end_time": "2020-11-03T16:09:29.296010",
     "exception": false,
     "start_time": "2020-11-03T16:09:27.572123",
     "status": "completed"
    },
    "tags": []
   },
   "outputs": [
    {
     "data": {
      "text/html": [
       "<div>\n",
       "<style scoped>\n",
       "    .dataframe tbody tr th:only-of-type {\n",
       "        vertical-align: middle;\n",
       "    }\n",
       "\n",
       "    .dataframe tbody tr th {\n",
       "        vertical-align: top;\n",
       "    }\n",
       "\n",
       "    .dataframe thead th {\n",
       "        text-align: right;\n",
       "    }\n",
       "</style>\n",
       "<table border=\"1\" class=\"dataframe\">\n",
       "  <thead>\n",
       "    <tr style=\"text-align: right;\">\n",
       "      <th></th>\n",
       "      <th>index</th>\n",
       "      <th>title</th>\n",
       "      <th>text</th>\n",
       "      <th>subject</th>\n",
       "      <th>date</th>\n",
       "      <th>class</th>\n",
       "      <th>Unnamed: 6</th>\n",
       "    </tr>\n",
       "  </thead>\n",
       "  <tbody>\n",
       "    <tr>\n",
       "      <th>0</th>\n",
       "      <td>0</td>\n",
       "      <td>PRESIDENT TRUMP Explains New “America First” R...</td>\n",
       "      <td>That s what we re talking about! Another campa...</td>\n",
       "      <td>politics</td>\n",
       "      <td>Aug 2, 2017</td>\n",
       "      <td>Fake</td>\n",
       "      <td>NaN</td>\n",
       "    </tr>\n",
       "    <tr>\n",
       "      <th>1</th>\n",
       "      <td>1</td>\n",
       "      <td>TERMINALLY ILL FORMER MISS WI: “Until my last ...</td>\n",
       "      <td>How is it that Sean Hannity is the only media ...</td>\n",
       "      <td>politics</td>\n",
       "      <td>Oct 4, 2016</td>\n",
       "      <td>Fake</td>\n",
       "      <td>NaN</td>\n",
       "    </tr>\n",
       "    <tr>\n",
       "      <th>2</th>\n",
       "      <td>2</td>\n",
       "      <td>Cruz Humiliated By Moderator After Lie About ...</td>\n",
       "      <td>Almost immediately after learning that longtim...</td>\n",
       "      <td>News</td>\n",
       "      <td>February 13, 2016</td>\n",
       "      <td>Fake</td>\n",
       "      <td>NaN</td>\n",
       "    </tr>\n",
       "    <tr>\n",
       "      <th>3</th>\n",
       "      <td>3</td>\n",
       "      <td>Russia revels in Trump victory, looks to sanct...</td>\n",
       "      <td>MOSCOW (Reuters) - For all their mutual praise...</td>\n",
       "      <td>politicsNews</td>\n",
       "      <td>November 9, 2016</td>\n",
       "      <td>Real</td>\n",
       "      <td>NaN</td>\n",
       "    </tr>\n",
       "    <tr>\n",
       "      <th>4</th>\n",
       "      <td>4</td>\n",
       "      <td>Trump's bid to open U.S. monuments to developm...</td>\n",
       "      <td>WASHINGTON (Reuters) - The Trump administratio...</td>\n",
       "      <td>politicsNews</td>\n",
       "      <td>May 26, 2017</td>\n",
       "      <td>Real</td>\n",
       "      <td>NaN</td>\n",
       "    </tr>\n",
       "  </tbody>\n",
       "</table>\n",
       "</div>"
      ],
      "text/plain": [
       "   index                                              title  \\\n",
       "0      0  PRESIDENT TRUMP Explains New “America First” R...   \n",
       "1      1  TERMINALLY ILL FORMER MISS WI: “Until my last ...   \n",
       "2      2   Cruz Humiliated By Moderator After Lie About ...   \n",
       "3      3  Russia revels in Trump victory, looks to sanct...   \n",
       "4      4  Trump's bid to open U.S. monuments to developm...   \n",
       "\n",
       "                                                text       subject  \\\n",
       "0  That s what we re talking about! Another campa...      politics   \n",
       "1  How is it that Sean Hannity is the only media ...      politics   \n",
       "2  Almost immediately after learning that longtim...          News   \n",
       "3  MOSCOW (Reuters) - For all their mutual praise...  politicsNews   \n",
       "4  WASHINGTON (Reuters) - The Trump administratio...  politicsNews   \n",
       "\n",
       "                date class Unnamed: 6  \n",
       "0        Aug 2, 2017  Fake        NaN  \n",
       "1        Oct 4, 2016  Fake        NaN  \n",
       "2  February 13, 2016  Fake        NaN  \n",
       "3  November 9, 2016   Real        NaN  \n",
       "4      May 26, 2017   Real        NaN  "
      ]
     },
     "execution_count": 2,
     "metadata": {},
     "output_type": "execute_result"
    }
   ],
   "source": [
    "train = pd.read_csv('../input/fake-news-dataset/train.csv')\n",
    "train.head()"
   ]
  },
  {
   "cell_type": "code",
   "execution_count": 3,
   "metadata": {
    "execution": {
     "iopub.execute_input": "2020-11-03T16:09:29.414125Z",
     "iopub.status.busy": "2020-11-03T16:09:29.413018Z",
     "iopub.status.idle": "2020-11-03T16:09:29.417657Z",
     "shell.execute_reply": "2020-11-03T16:09:29.416929Z"
    },
    "papermill": {
     "duration": 0.069885,
     "end_time": "2020-11-03T16:09:29.417778",
     "exception": false,
     "start_time": "2020-11-03T16:09:29.347893",
     "status": "completed"
    },
    "tags": []
   },
   "outputs": [
    {
     "data": {
      "text/html": [
       "<div>\n",
       "<style scoped>\n",
       "    .dataframe tbody tr th:only-of-type {\n",
       "        vertical-align: middle;\n",
       "    }\n",
       "\n",
       "    .dataframe tbody tr th {\n",
       "        vertical-align: top;\n",
       "    }\n",
       "\n",
       "    .dataframe thead th {\n",
       "        text-align: right;\n",
       "    }\n",
       "</style>\n",
       "<table border=\"1\" class=\"dataframe\">\n",
       "  <thead>\n",
       "    <tr style=\"text-align: right;\">\n",
       "      <th></th>\n",
       "      <th>index</th>\n",
       "      <th>title</th>\n",
       "      <th>text</th>\n",
       "      <th>subject</th>\n",
       "      <th>date</th>\n",
       "      <th>class</th>\n",
       "      <th>Unnamed: 6</th>\n",
       "    </tr>\n",
       "  </thead>\n",
       "  <tbody>\n",
       "    <tr>\n",
       "      <th>0</th>\n",
       "      <td>0</td>\n",
       "      <td>PRESIDENT TRUMP Explains New “America First” R...</td>\n",
       "      <td>That s what we re talking about! Another campa...</td>\n",
       "      <td>politics</td>\n",
       "      <td>Aug 2, 2017</td>\n",
       "      <td>Fake</td>\n",
       "      <td>NaN</td>\n",
       "    </tr>\n",
       "    <tr>\n",
       "      <th>1</th>\n",
       "      <td>1</td>\n",
       "      <td>TERMINALLY ILL FORMER MISS WI: “Until my last ...</td>\n",
       "      <td>How is it that Sean Hannity is the only media ...</td>\n",
       "      <td>politics</td>\n",
       "      <td>Oct 4, 2016</td>\n",
       "      <td>Fake</td>\n",
       "      <td>NaN</td>\n",
       "    </tr>\n",
       "    <tr>\n",
       "      <th>2</th>\n",
       "      <td>2</td>\n",
       "      <td>Cruz Humiliated By Moderator After Lie About ...</td>\n",
       "      <td>Almost immediately after learning that longtim...</td>\n",
       "      <td>News</td>\n",
       "      <td>February 13, 2016</td>\n",
       "      <td>Fake</td>\n",
       "      <td>NaN</td>\n",
       "    </tr>\n",
       "    <tr>\n",
       "      <th>3</th>\n",
       "      <td>3</td>\n",
       "      <td>Russia revels in Trump victory, looks to sanct...</td>\n",
       "      <td>MOSCOW (Reuters) - For all their mutual praise...</td>\n",
       "      <td>politicsNews</td>\n",
       "      <td>November 9, 2016</td>\n",
       "      <td>Real</td>\n",
       "      <td>NaN</td>\n",
       "    </tr>\n",
       "    <tr>\n",
       "      <th>4</th>\n",
       "      <td>4</td>\n",
       "      <td>Trump's bid to open U.S. monuments to developm...</td>\n",
       "      <td>WASHINGTON (Reuters) - The Trump administratio...</td>\n",
       "      <td>politicsNews</td>\n",
       "      <td>May 26, 2017</td>\n",
       "      <td>Real</td>\n",
       "      <td>NaN</td>\n",
       "    </tr>\n",
       "  </tbody>\n",
       "</table>\n",
       "</div>"
      ],
      "text/plain": [
       "   index                                              title  \\\n",
       "0      0  PRESIDENT TRUMP Explains New “America First” R...   \n",
       "1      1  TERMINALLY ILL FORMER MISS WI: “Until my last ...   \n",
       "2      2   Cruz Humiliated By Moderator After Lie About ...   \n",
       "3      3  Russia revels in Trump victory, looks to sanct...   \n",
       "4      4  Trump's bid to open U.S. monuments to developm...   \n",
       "\n",
       "                                                text       subject  \\\n",
       "0  That s what we re talking about! Another campa...      politics   \n",
       "1  How is it that Sean Hannity is the only media ...      politics   \n",
       "2  Almost immediately after learning that longtim...          News   \n",
       "3  MOSCOW (Reuters) - For all their mutual praise...  politicsNews   \n",
       "4  WASHINGTON (Reuters) - The Trump administratio...  politicsNews   \n",
       "\n",
       "                date class Unnamed: 6  \n",
       "0        Aug 2, 2017  Fake        NaN  \n",
       "1        Oct 4, 2016  Fake        NaN  \n",
       "2  February 13, 2016  Fake        NaN  \n",
       "3  November 9, 2016   Real        NaN  \n",
       "4      May 26, 2017   Real        NaN  "
      ]
     },
     "execution_count": 3,
     "metadata": {},
     "output_type": "execute_result"
    }
   ],
   "source": [
    "train.head()"
   ]
  },
  {
   "cell_type": "code",
   "execution_count": 4,
   "metadata": {
    "execution": {
     "iopub.execute_input": "2020-11-03T16:09:29.538596Z",
     "iopub.status.busy": "2020-11-03T16:09:29.537556Z",
     "iopub.status.idle": "2020-11-03T16:09:29.542094Z",
     "shell.execute_reply": "2020-11-03T16:09:29.541459Z"
    },
    "papermill": {
     "duration": 0.062664,
     "end_time": "2020-11-03T16:09:29.542225",
     "exception": false,
     "start_time": "2020-11-03T16:09:29.479561",
     "status": "completed"
    },
    "tags": []
   },
   "outputs": [
    {
     "data": {
      "text/plain": [
       "(40000, 7)"
      ]
     },
     "execution_count": 4,
     "metadata": {},
     "output_type": "execute_result"
    }
   ],
   "source": [
    "train.shape"
   ]
  },
  {
   "cell_type": "markdown",
   "metadata": {
    "papermill": {
     "duration": 0.052665,
     "end_time": "2020-11-03T16:09:29.647729",
     "exception": false,
     "start_time": "2020-11-03T16:09:29.595064",
     "status": "completed"
    },
    "tags": []
   },
   "source": [
    "**Checking for null values**"
   ]
  },
  {
   "cell_type": "code",
   "execution_count": 5,
   "metadata": {
    "execution": {
     "iopub.execute_input": "2020-11-03T16:09:29.786056Z",
     "iopub.status.busy": "2020-11-03T16:09:29.784914Z",
     "iopub.status.idle": "2020-11-03T16:09:29.793680Z",
     "shell.execute_reply": "2020-11-03T16:09:29.792954Z"
    },
    "papermill": {
     "duration": 0.093065,
     "end_time": "2020-11-03T16:09:29.793833",
     "exception": false,
     "start_time": "2020-11-03T16:09:29.700768",
     "status": "completed"
    },
    "tags": []
   },
   "outputs": [
    {
     "data": {
      "text/plain": [
       "index             0\n",
       "title             0\n",
       "text              0\n",
       "subject           0\n",
       "date              0\n",
       "class             0\n",
       "Unnamed: 6    39999\n",
       "dtype: int64"
      ]
     },
     "execution_count": 5,
     "metadata": {},
     "output_type": "execute_result"
    }
   ],
   "source": [
    "train.isnull().sum()"
   ]
  },
  {
   "cell_type": "markdown",
   "metadata": {
    "papermill": {
     "duration": 0.053047,
     "end_time": "2020-11-03T16:09:29.900689",
     "exception": false,
     "start_time": "2020-11-03T16:09:29.847642",
     "status": "completed"
    },
    "tags": []
   },
   "source": [
    "**Checking whether the dataset is balanced or imbalanced**"
   ]
  },
  {
   "cell_type": "code",
   "execution_count": 6,
   "metadata": {
    "execution": {
     "iopub.execute_input": "2020-11-03T16:09:30.030380Z",
     "iopub.status.busy": "2020-11-03T16:09:30.029513Z",
     "iopub.status.idle": "2020-11-03T16:09:30.033738Z",
     "shell.execute_reply": "2020-11-03T16:09:30.034353Z"
    },
    "papermill": {
     "duration": 0.08071,
     "end_time": "2020-11-03T16:09:30.034511",
     "exception": false,
     "start_time": "2020-11-03T16:09:29.953801",
     "status": "completed"
    },
    "tags": []
   },
   "outputs": [
    {
     "data": {
      "text/plain": [
       "Fake                20886\n",
       "Real                19113\n",
       "February 5, 2017        1\n",
       "Name: class, dtype: int64"
      ]
     },
     "execution_count": 6,
     "metadata": {},
     "output_type": "execute_result"
    }
   ],
   "source": [
    "train['class'].value_counts()"
   ]
  },
  {
   "cell_type": "markdown",
   "metadata": {
    "papermill": {
     "duration": 0.053329,
     "end_time": "2020-11-03T16:09:30.142408",
     "exception": false,
     "start_time": "2020-11-03T16:09:30.089079",
     "status": "completed"
    },
    "tags": []
   },
   "source": [
    "The dataset is fairly balanced with the number of Real and Fake classes almost equal. \n",
    "\n",
    "Their seems to be another class with the name **'February 5, 2017'** consisting of only one data point. On further inspection, I find that the features for this data point has been shifted one column ahead for all the features. Since it is just one point, it can be removed or the features shifted in the reverse direction. \n",
    "\n",
    "I chose to shift the columns in the right places."
   ]
  },
  {
   "cell_type": "code",
   "execution_count": 7,
   "metadata": {
    "execution": {
     "iopub.execute_input": "2020-11-03T16:09:30.271949Z",
     "iopub.status.busy": "2020-11-03T16:09:30.261725Z",
     "iopub.status.idle": "2020-11-03T16:09:30.276808Z",
     "shell.execute_reply": "2020-11-03T16:09:30.276039Z"
    },
    "papermill": {
     "duration": 0.080846,
     "end_time": "2020-11-03T16:09:30.276956",
     "exception": false,
     "start_time": "2020-11-03T16:09:30.196110",
     "status": "completed"
    },
    "tags": []
   },
   "outputs": [
    {
     "data": {
      "text/html": [
       "<div>\n",
       "<style scoped>\n",
       "    .dataframe tbody tr th:only-of-type {\n",
       "        vertical-align: middle;\n",
       "    }\n",
       "\n",
       "    .dataframe tbody tr th {\n",
       "        vertical-align: top;\n",
       "    }\n",
       "\n",
       "    .dataframe thead th {\n",
       "        text-align: right;\n",
       "    }\n",
       "</style>\n",
       "<table border=\"1\" class=\"dataframe\">\n",
       "  <thead>\n",
       "    <tr style=\"text-align: right;\">\n",
       "      <th></th>\n",
       "      <th>index</th>\n",
       "      <th>title</th>\n",
       "      <th>text</th>\n",
       "      <th>subject</th>\n",
       "      <th>date</th>\n",
       "      <th>class</th>\n",
       "      <th>Unnamed: 6</th>\n",
       "    </tr>\n",
       "  </thead>\n",
       "  <tbody>\n",
       "    <tr>\n",
       "      <th>504</th>\n",
       "      <td>504</td>\n",
       "      <td>Even Mitch McConnell Is Beginning To Turn On ...</td>\n",
       "      <td>Is Impeachment Next? (VIDEO)</td>\n",
       "      <td>Donald Trump s Muslim ban is proving to be a l...</td>\n",
       "      <td>News</td>\n",
       "      <td>February 5, 2017</td>\n",
       "      <td>Fake</td>\n",
       "    </tr>\n",
       "  </tbody>\n",
       "</table>\n",
       "</div>"
      ],
      "text/plain": [
       "     index                                              title  \\\n",
       "504    504   Even Mitch McConnell Is Beginning To Turn On ...   \n",
       "\n",
       "                              text  \\\n",
       "504   Is Impeachment Next? (VIDEO)   \n",
       "\n",
       "                                               subject  date  \\\n",
       "504  Donald Trump s Muslim ban is proving to be a l...  News   \n",
       "\n",
       "                class Unnamed: 6  \n",
       "504  February 5, 2017       Fake  "
      ]
     },
     "execution_count": 7,
     "metadata": {},
     "output_type": "execute_result"
    }
   ],
   "source": [
    "train[train['class'] == 'February 5, 2017']"
   ]
  },
  {
   "cell_type": "code",
   "execution_count": 8,
   "metadata": {
    "execution": {
     "iopub.execute_input": "2020-11-03T16:09:30.402953Z",
     "iopub.status.busy": "2020-11-03T16:09:30.395190Z",
     "iopub.status.idle": "2020-11-03T16:09:30.406268Z",
     "shell.execute_reply": "2020-11-03T16:09:30.405583Z"
    },
    "papermill": {
     "duration": 0.074608,
     "end_time": "2020-11-03T16:09:30.406400",
     "exception": false,
     "start_time": "2020-11-03T16:09:30.331792",
     "status": "completed"
    },
    "tags": []
   },
   "outputs": [],
   "source": [
    "#shifting the column values in the respective places\n",
    "train.iloc[504, 2] = train.iloc[504, 3]\n",
    "train.iloc[504, 3] = train.iloc[504, 4]\n",
    "train.iloc[504, 4] = train.iloc[504, 5]\n",
    "train.iloc[504, 5] = train.iloc[504, 6]\n",
    "train.iloc[504, 6] = np.nan"
   ]
  },
  {
   "cell_type": "code",
   "execution_count": 9,
   "metadata": {
    "execution": {
     "iopub.execute_input": "2020-11-03T16:09:30.530897Z",
     "iopub.status.busy": "2020-11-03T16:09:30.529714Z",
     "iopub.status.idle": "2020-11-03T16:09:30.534631Z",
     "shell.execute_reply": "2020-11-03T16:09:30.533898Z"
    },
    "papermill": {
     "duration": 0.073453,
     "end_time": "2020-11-03T16:09:30.534754",
     "exception": false,
     "start_time": "2020-11-03T16:09:30.461301",
     "status": "completed"
    },
    "tags": []
   },
   "outputs": [
    {
     "data": {
      "text/html": [
       "<div>\n",
       "<style scoped>\n",
       "    .dataframe tbody tr th:only-of-type {\n",
       "        vertical-align: middle;\n",
       "    }\n",
       "\n",
       "    .dataframe tbody tr th {\n",
       "        vertical-align: top;\n",
       "    }\n",
       "\n",
       "    .dataframe thead th {\n",
       "        text-align: right;\n",
       "    }\n",
       "</style>\n",
       "<table border=\"1\" class=\"dataframe\">\n",
       "  <thead>\n",
       "    <tr style=\"text-align: right;\">\n",
       "      <th></th>\n",
       "      <th>index</th>\n",
       "      <th>title</th>\n",
       "      <th>text</th>\n",
       "      <th>subject</th>\n",
       "      <th>date</th>\n",
       "      <th>class</th>\n",
       "      <th>Unnamed: 6</th>\n",
       "    </tr>\n",
       "  </thead>\n",
       "  <tbody>\n",
       "    <tr>\n",
       "      <th>504</th>\n",
       "      <td>504</td>\n",
       "      <td>Even Mitch McConnell Is Beginning To Turn On ...</td>\n",
       "      <td>Donald Trump s Muslim ban is proving to be a l...</td>\n",
       "      <td>News</td>\n",
       "      <td>February 5, 2017</td>\n",
       "      <td>Fake</td>\n",
       "      <td>NaN</td>\n",
       "    </tr>\n",
       "  </tbody>\n",
       "</table>\n",
       "</div>"
      ],
      "text/plain": [
       "     index                                              title  \\\n",
       "504    504   Even Mitch McConnell Is Beginning To Turn On ...   \n",
       "\n",
       "                                                  text subject  \\\n",
       "504  Donald Trump s Muslim ban is proving to be a l...    News   \n",
       "\n",
       "                 date class Unnamed: 6  \n",
       "504  February 5, 2017  Fake        NaN  "
      ]
     },
     "execution_count": 9,
     "metadata": {},
     "output_type": "execute_result"
    }
   ],
   "source": [
    "train.iloc[[504]]"
   ]
  },
  {
   "cell_type": "markdown",
   "metadata": {
    "papermill": {
     "duration": 0.055445,
     "end_time": "2020-11-03T16:09:30.646009",
     "exception": false,
     "start_time": "2020-11-03T16:09:30.590564",
     "status": "completed"
    },
    "tags": []
   },
   "source": [
    "The **index** and **Unnamed: 6** columns can now be removed as these are redundant and don't convey any information."
   ]
  },
  {
   "cell_type": "code",
   "execution_count": 10,
   "metadata": {
    "execution": {
     "iopub.execute_input": "2020-11-03T16:09:30.778058Z",
     "iopub.status.busy": "2020-11-03T16:09:30.776982Z",
     "iopub.status.idle": "2020-11-03T16:09:30.781918Z",
     "shell.execute_reply": "2020-11-03T16:09:30.781292Z"
    },
    "papermill": {
     "duration": 0.080474,
     "end_time": "2020-11-03T16:09:30.782047",
     "exception": false,
     "start_time": "2020-11-03T16:09:30.701573",
     "status": "completed"
    },
    "tags": []
   },
   "outputs": [
    {
     "data": {
      "text/html": [
       "<div>\n",
       "<style scoped>\n",
       "    .dataframe tbody tr th:only-of-type {\n",
       "        vertical-align: middle;\n",
       "    }\n",
       "\n",
       "    .dataframe tbody tr th {\n",
       "        vertical-align: top;\n",
       "    }\n",
       "\n",
       "    .dataframe thead th {\n",
       "        text-align: right;\n",
       "    }\n",
       "</style>\n",
       "<table border=\"1\" class=\"dataframe\">\n",
       "  <thead>\n",
       "    <tr style=\"text-align: right;\">\n",
       "      <th></th>\n",
       "      <th>title</th>\n",
       "      <th>text</th>\n",
       "      <th>subject</th>\n",
       "      <th>date</th>\n",
       "      <th>class</th>\n",
       "    </tr>\n",
       "  </thead>\n",
       "  <tbody>\n",
       "    <tr>\n",
       "      <th>0</th>\n",
       "      <td>PRESIDENT TRUMP Explains New “America First” R...</td>\n",
       "      <td>That s what we re talking about! Another campa...</td>\n",
       "      <td>politics</td>\n",
       "      <td>Aug 2, 2017</td>\n",
       "      <td>Fake</td>\n",
       "    </tr>\n",
       "    <tr>\n",
       "      <th>1</th>\n",
       "      <td>TERMINALLY ILL FORMER MISS WI: “Until my last ...</td>\n",
       "      <td>How is it that Sean Hannity is the only media ...</td>\n",
       "      <td>politics</td>\n",
       "      <td>Oct 4, 2016</td>\n",
       "      <td>Fake</td>\n",
       "    </tr>\n",
       "    <tr>\n",
       "      <th>2</th>\n",
       "      <td>Cruz Humiliated By Moderator After Lie About ...</td>\n",
       "      <td>Almost immediately after learning that longtim...</td>\n",
       "      <td>News</td>\n",
       "      <td>February 13, 2016</td>\n",
       "      <td>Fake</td>\n",
       "    </tr>\n",
       "    <tr>\n",
       "      <th>3</th>\n",
       "      <td>Russia revels in Trump victory, looks to sanct...</td>\n",
       "      <td>MOSCOW (Reuters) - For all their mutual praise...</td>\n",
       "      <td>politicsNews</td>\n",
       "      <td>November 9, 2016</td>\n",
       "      <td>Real</td>\n",
       "    </tr>\n",
       "    <tr>\n",
       "      <th>4</th>\n",
       "      <td>Trump's bid to open U.S. monuments to developm...</td>\n",
       "      <td>WASHINGTON (Reuters) - The Trump administratio...</td>\n",
       "      <td>politicsNews</td>\n",
       "      <td>May 26, 2017</td>\n",
       "      <td>Real</td>\n",
       "    </tr>\n",
       "  </tbody>\n",
       "</table>\n",
       "</div>"
      ],
      "text/plain": [
       "                                               title  \\\n",
       "0  PRESIDENT TRUMP Explains New “America First” R...   \n",
       "1  TERMINALLY ILL FORMER MISS WI: “Until my last ...   \n",
       "2   Cruz Humiliated By Moderator After Lie About ...   \n",
       "3  Russia revels in Trump victory, looks to sanct...   \n",
       "4  Trump's bid to open U.S. monuments to developm...   \n",
       "\n",
       "                                                text       subject  \\\n",
       "0  That s what we re talking about! Another campa...      politics   \n",
       "1  How is it that Sean Hannity is the only media ...      politics   \n",
       "2  Almost immediately after learning that longtim...          News   \n",
       "3  MOSCOW (Reuters) - For all their mutual praise...  politicsNews   \n",
       "4  WASHINGTON (Reuters) - The Trump administratio...  politicsNews   \n",
       "\n",
       "                date class  \n",
       "0        Aug 2, 2017  Fake  \n",
       "1        Oct 4, 2016  Fake  \n",
       "2  February 13, 2016  Fake  \n",
       "3  November 9, 2016   Real  \n",
       "4      May 26, 2017   Real  "
      ]
     },
     "execution_count": 10,
     "metadata": {},
     "output_type": "execute_result"
    }
   ],
   "source": [
    "train.drop(['index', 'Unnamed: 6'], axis = 1, inplace=True)\n",
    "train.head()"
   ]
  },
  {
   "cell_type": "markdown",
   "metadata": {
    "papermill": {
     "duration": 0.056947,
     "end_time": "2020-11-03T16:09:30.896355",
     "exception": false,
     "start_time": "2020-11-03T16:09:30.839408",
     "status": "completed"
    },
    "tags": []
   },
   "source": [
    "# Data description"
   ]
  },
  {
   "cell_type": "code",
   "execution_count": 11,
   "metadata": {
    "execution": {
     "iopub.execute_input": "2020-11-03T16:09:31.050469Z",
     "iopub.status.busy": "2020-11-03T16:09:31.035454Z",
     "iopub.status.idle": "2020-11-03T16:09:31.265906Z",
     "shell.execute_reply": "2020-11-03T16:09:31.265153Z"
    },
    "papermill": {
     "duration": 0.313486,
     "end_time": "2020-11-03T16:09:31.266032",
     "exception": false,
     "start_time": "2020-11-03T16:09:30.952546",
     "status": "completed"
    },
    "tags": []
   },
   "outputs": [
    {
     "data": {
      "text/html": [
       "<div>\n",
       "<style scoped>\n",
       "    .dataframe tbody tr th:only-of-type {\n",
       "        vertical-align: middle;\n",
       "    }\n",
       "\n",
       "    .dataframe tbody tr th {\n",
       "        vertical-align: top;\n",
       "    }\n",
       "\n",
       "    .dataframe thead th {\n",
       "        text-align: right;\n",
       "    }\n",
       "</style>\n",
       "<table border=\"1\" class=\"dataframe\">\n",
       "  <thead>\n",
       "    <tr style=\"text-align: right;\">\n",
       "      <th></th>\n",
       "      <th>count</th>\n",
       "      <th>unique</th>\n",
       "      <th>top</th>\n",
       "      <th>freq</th>\n",
       "    </tr>\n",
       "  </thead>\n",
       "  <tbody>\n",
       "    <tr>\n",
       "      <th>title</th>\n",
       "      <td>40000</td>\n",
       "      <td>35075</td>\n",
       "      <td>Factbox: Trump fills top jobs for his administ...</td>\n",
       "      <td>12</td>\n",
       "    </tr>\n",
       "    <tr>\n",
       "      <th>text</th>\n",
       "      <td>40000</td>\n",
       "      <td>34965</td>\n",
       "      <td></td>\n",
       "      <td>552</td>\n",
       "    </tr>\n",
       "    <tr>\n",
       "      <th>subject</th>\n",
       "      <td>40000</td>\n",
       "      <td>8</td>\n",
       "      <td>politicsNews</td>\n",
       "      <td>10075</td>\n",
       "    </tr>\n",
       "    <tr>\n",
       "      <th>date</th>\n",
       "      <td>40000</td>\n",
       "      <td>2388</td>\n",
       "      <td>December 20, 2017</td>\n",
       "      <td>161</td>\n",
       "    </tr>\n",
       "    <tr>\n",
       "      <th>class</th>\n",
       "      <td>40000</td>\n",
       "      <td>2</td>\n",
       "      <td>Fake</td>\n",
       "      <td>20887</td>\n",
       "    </tr>\n",
       "  </tbody>\n",
       "</table>\n",
       "</div>"
      ],
      "text/plain": [
       "         count unique                                                top  \\\n",
       "title    40000  35075  Factbox: Trump fills top jobs for his administ...   \n",
       "text     40000  34965                                                      \n",
       "subject  40000      8                                       politicsNews   \n",
       "date     40000   2388                                 December 20, 2017    \n",
       "class    40000      2                                               Fake   \n",
       "\n",
       "          freq  \n",
       "title       12  \n",
       "text       552  \n",
       "subject  10075  \n",
       "date       161  \n",
       "class    20887  "
      ]
     },
     "execution_count": 11,
     "metadata": {},
     "output_type": "execute_result"
    }
   ],
   "source": [
    "train.describe(include = 'all').T"
   ]
  },
  {
   "cell_type": "markdown",
   "metadata": {
    "papermill": {
     "duration": 0.056559,
     "end_time": "2020-11-03T16:09:31.379661",
     "exception": false,
     "start_time": "2020-11-03T16:09:31.323102",
     "status": "completed"
    },
    "tags": []
   },
   "source": [
    "From the above table, it can be seen that out of 40,000 titles and texts, 35,075 and 34,965 are unique, respectively.\n",
    "\n",
    "So the remaining non-unique titles and texts must be removed. I removed the **text**, as it has more non-unique values comapred to **title**."
   ]
  },
  {
   "cell_type": "code",
   "execution_count": 12,
   "metadata": {
    "execution": {
     "iopub.execute_input": "2020-11-03T16:09:31.510809Z",
     "iopub.status.busy": "2020-11-03T16:09:31.510032Z",
     "iopub.status.idle": "2020-11-03T16:09:31.941385Z",
     "shell.execute_reply": "2020-11-03T16:09:31.940599Z"
    },
    "papermill": {
     "duration": 0.504988,
     "end_time": "2020-11-03T16:09:31.941510",
     "exception": false,
     "start_time": "2020-11-03T16:09:31.436522",
     "status": "completed"
    },
    "tags": []
   },
   "outputs": [
    {
     "data": {
      "text/html": [
       "<div>\n",
       "<style scoped>\n",
       "    .dataframe tbody tr th:only-of-type {\n",
       "        vertical-align: middle;\n",
       "    }\n",
       "\n",
       "    .dataframe tbody tr th {\n",
       "        vertical-align: top;\n",
       "    }\n",
       "\n",
       "    .dataframe thead th {\n",
       "        text-align: right;\n",
       "    }\n",
       "</style>\n",
       "<table border=\"1\" class=\"dataframe\">\n",
       "  <thead>\n",
       "    <tr style=\"text-align: right;\">\n",
       "      <th></th>\n",
       "      <th>count</th>\n",
       "      <th>unique</th>\n",
       "      <th>top</th>\n",
       "      <th>freq</th>\n",
       "    </tr>\n",
       "  </thead>\n",
       "  <tbody>\n",
       "    <tr>\n",
       "      <th>title</th>\n",
       "      <td>34965</td>\n",
       "      <td>34653</td>\n",
       "      <td>Factbox: Trump fills top jobs for his administ...</td>\n",
       "      <td>12</td>\n",
       "    </tr>\n",
       "    <tr>\n",
       "      <th>text</th>\n",
       "      <td>34965</td>\n",
       "      <td>34965</td>\n",
       "      <td>Michelle Obama told Oprah Winfrey in her final...</td>\n",
       "      <td>1</td>\n",
       "    </tr>\n",
       "    <tr>\n",
       "      <th>subject</th>\n",
       "      <td>34965</td>\n",
       "      <td>8</td>\n",
       "      <td>politicsNews</td>\n",
       "      <td>10023</td>\n",
       "    </tr>\n",
       "    <tr>\n",
       "      <th>date</th>\n",
       "      <td>34965</td>\n",
       "      <td>2388</td>\n",
       "      <td>December 6, 2017</td>\n",
       "      <td>149</td>\n",
       "    </tr>\n",
       "    <tr>\n",
       "      <th>class</th>\n",
       "      <td>34965</td>\n",
       "      <td>2</td>\n",
       "      <td>Real</td>\n",
       "      <td>18936</td>\n",
       "    </tr>\n",
       "  </tbody>\n",
       "</table>\n",
       "</div>"
      ],
      "text/plain": [
       "         count unique                                                top  \\\n",
       "title    34965  34653  Factbox: Trump fills top jobs for his administ...   \n",
       "text     34965  34965  Michelle Obama told Oprah Winfrey in her final...   \n",
       "subject  34965      8                                       politicsNews   \n",
       "date     34965   2388                                  December 6, 2017    \n",
       "class    34965      2                                               Real   \n",
       "\n",
       "          freq  \n",
       "title       12  \n",
       "text         1  \n",
       "subject  10023  \n",
       "date       149  \n",
       "class    18936  "
      ]
     },
     "execution_count": 12,
     "metadata": {},
     "output_type": "execute_result"
    }
   ],
   "source": [
    "train.drop_duplicates(subset = ['text'], inplace=True)\n",
    "train.reset_index(drop = True, inplace = True)\n",
    "train.describe(include = 'all').T"
   ]
  },
  {
   "cell_type": "markdown",
   "metadata": {
    "papermill": {
     "duration": 0.058617,
     "end_time": "2020-11-03T16:09:32.064801",
     "exception": false,
     "start_time": "2020-11-03T16:09:32.006184",
     "status": "completed"
    },
    "tags": []
   },
   "source": [
    "As can be seen, out of 34,965 texts, 34,653 are unique. The remaining 312 (34965-34653) are non-unique. Since it's a small number, I let it as it is."
   ]
  },
  {
   "cell_type": "markdown",
   "metadata": {
    "papermill": {
     "duration": 0.060806,
     "end_time": "2020-11-03T16:09:32.194972",
     "exception": false,
     "start_time": "2020-11-03T16:09:32.134166",
     "status": "completed"
    },
    "tags": []
   },
   "source": [
    "# Pie chart showing the type of articles"
   ]
  },
  {
   "cell_type": "code",
   "execution_count": 13,
   "metadata": {
    "execution": {
     "iopub.execute_input": "2020-11-03T16:09:32.327943Z",
     "iopub.status.busy": "2020-11-03T16:09:32.326878Z",
     "iopub.status.idle": "2020-11-03T16:09:32.475004Z",
     "shell.execute_reply": "2020-11-03T16:09:32.475794Z"
    },
    "papermill": {
     "duration": 0.22277,
     "end_time": "2020-11-03T16:09:32.476016",
     "exception": false,
     "start_time": "2020-11-03T16:09:32.253246",
     "status": "completed"
    },
    "tags": []
   },
   "outputs": [
    {
     "data": {
      "image/png": "[encoded data removed]",
      "text/plain": [
       "<Figure size 504x504 with 1 Axes>"
      ]
     },
     "metadata": {},
     "output_type": "display_data"
    }
   ],
   "source": [
    "train['subject'].value_counts().plot.pie(figsize = (7, 7));"
   ]
  },
  {
   "cell_type": "markdown",
   "metadata": {
    "papermill": {
     "duration": 0.059031,
     "end_time": "2020-11-03T16:09:32.601395",
     "exception": false,
     "start_time": "2020-11-03T16:09:32.542364",
     "status": "completed"
    },
    "tags": []
   },
   "source": [
    "# Removing stopwords"
   ]
  },
  {
   "cell_type": "code",
   "execution_count": 14,
   "metadata": {
    "execution": {
     "iopub.execute_input": "2020-11-03T16:09:32.735580Z",
     "iopub.status.busy": "2020-11-03T16:09:32.734858Z",
     "iopub.status.idle": "2020-11-03T16:46:58.962182Z",
     "shell.execute_reply": "2020-11-03T16:46:58.961293Z"
    },
    "papermill": {
     "duration": 2246.297002,
     "end_time": "2020-11-03T16:46:58.962328",
     "exception": false,
     "start_time": "2020-11-03T16:09:32.665326",
     "status": "completed"
    },
    "tags": []
   },
   "outputs": [],
   "source": [
    "import re\n",
    "from nltk.corpus import stopwords\n",
    "\n",
    "def stopwordsRemover(document):\n",
    "    corpus = []\n",
    "    for i in range(len(train)):\n",
    "        temp = re.sub('[^a-zA-Z]', ' ', document[i])\n",
    "        temp = temp.lower()\n",
    "        temp = temp.split()\n",
    "\n",
    "        temp = [word for word in temp if not word in stopwords.words('english')]\n",
    "        temp = ' '.join(temp)\n",
    "        corpus.append(temp)\n",
    "    return(corpus)\n",
    "noStopWordTitle = stopwordsRemover(train['title'])\n",
    "noStopWordText = stopwordsRemover(train['text'])"
   ]
  },
  {
   "cell_type": "code",
   "execution_count": 15,
   "metadata": {
    "execution": {
     "iopub.execute_input": "2020-11-03T16:46:59.155164Z",
     "iopub.status.busy": "2020-11-03T16:46:59.154043Z",
     "iopub.status.idle": "2020-11-03T16:46:59.158494Z",
     "shell.execute_reply": "2020-11-03T16:46:59.157935Z"
    },
    "papermill": {
     "duration": 0.074,
     "end_time": "2020-11-03T16:46:59.158620",
     "exception": false,
     "start_time": "2020-11-03T16:46:59.084620",
     "status": "completed"
    },
    "tags": []
   },
   "outputs": [
    {
     "data": {
      "text/plain": [
       "['president trump explains new america first raise act welfare new immigrants migrants favors english speaking immigrants protects jobs minorities us workers replaced video',\n",
       " 'terminally ill former miss wi last breath use voice tell mr trump really video',\n",
       " 'cruz humiliated moderator lie presidents appointing justices election year',\n",
       " 'russia revels trump victory looks sanctions relief',\n",
       " 'trump bid open u monuments development draws calls protection',\n",
       " 'unreal ice released deport criminal illegals video',\n",
       " 'consequences liberal tolerance isis flag hanging roof yet one reported video',\n",
       " 'u news world report publishes list top popular nations refugees want live',\n",
       " 'trump administration nafta demands make sense union pacific ceo',\n",
       " 'turks flock social media gold trader sanctions case']"
      ]
     },
     "execution_count": 15,
     "metadata": {},
     "output_type": "execute_result"
    }
   ],
   "source": [
    "#first 10 titles\n",
    "noStopWordTitle[:10]"
   ]
  },
  {
   "cell_type": "markdown",
   "metadata": {
    "papermill": {
     "duration": 0.060679,
     "end_time": "2020-11-03T16:46:59.281055",
     "exception": false,
     "start_time": "2020-11-03T16:46:59.220376",
     "status": "completed"
    },
    "tags": []
   },
   "source": [
    "I removed the **title** and **text** and inserted the **noStopWordTitle** and **noStopWordText** in the dataframe"
   ]
  },
  {
   "cell_type": "code",
   "execution_count": 16,
   "metadata": {
    "execution": {
     "iopub.execute_input": "2020-11-03T16:46:59.410794Z",
     "iopub.status.busy": "2020-11-03T16:46:59.410050Z",
     "iopub.status.idle": "2020-11-03T16:46:59.510213Z",
     "shell.execute_reply": "2020-11-03T16:46:59.509339Z"
    },
    "papermill": {
     "duration": 0.167921,
     "end_time": "2020-11-03T16:46:59.510363",
     "exception": false,
     "start_time": "2020-11-03T16:46:59.342442",
     "status": "completed"
    },
    "tags": []
   },
   "outputs": [],
   "source": [
    "train.insert(0, 'noStopWordTitle', noStopWordTitle, True)\n",
    "train.insert(1, 'noStopWordText', noStopWordText, True)"
   ]
  },
  {
   "cell_type": "code",
   "execution_count": 17,
   "metadata": {
    "execution": {
     "iopub.execute_input": "2020-11-03T16:46:59.661948Z",
     "iopub.status.busy": "2020-11-03T16:46:59.660879Z",
     "iopub.status.idle": "2020-11-03T16:46:59.709267Z",
     "shell.execute_reply": "2020-11-03T16:46:59.708576Z"
    },
    "papermill": {
     "duration": 0.134147,
     "end_time": "2020-11-03T16:46:59.709402",
     "exception": false,
     "start_time": "2020-11-03T16:46:59.575255",
     "status": "completed"
    },
    "tags": []
   },
   "outputs": [],
   "source": [
    "train.drop(['title', 'text'], axis = 1, inplace = True)"
   ]
  },
  {
   "cell_type": "code",
   "execution_count": 18,
   "metadata": {
    "execution": {
     "iopub.execute_input": "2020-11-03T16:46:59.850863Z",
     "iopub.status.busy": "2020-11-03T16:46:59.849805Z",
     "iopub.status.idle": "2020-11-03T16:46:59.855746Z",
     "shell.execute_reply": "2020-11-03T16:46:59.855134Z"
    },
    "papermill": {
     "duration": 0.082977,
     "end_time": "2020-11-03T16:46:59.855922",
     "exception": false,
     "start_time": "2020-11-03T16:46:59.772945",
     "status": "completed"
    },
    "tags": []
   },
   "outputs": [
    {
     "data": {
      "text/html": [
       "<div>\n",
       "<style scoped>\n",
       "    .dataframe tbody tr th:only-of-type {\n",
       "        vertical-align: middle;\n",
       "    }\n",
       "\n",
       "    .dataframe tbody tr th {\n",
       "        vertical-align: top;\n",
       "    }\n",
       "\n",
       "    .dataframe thead th {\n",
       "        text-align: right;\n",
       "    }\n",
       "</style>\n",
       "<table border=\"1\" class=\"dataframe\">\n",
       "  <thead>\n",
       "    <tr style=\"text-align: right;\">\n",
       "      <th></th>\n",
       "      <th>noStopWordTitle</th>\n",
       "      <th>noStopWordText</th>\n",
       "      <th>subject</th>\n",
       "      <th>date</th>\n",
       "      <th>class</th>\n",
       "    </tr>\n",
       "  </thead>\n",
       "  <tbody>\n",
       "    <tr>\n",
       "      <th>0</th>\n",
       "      <td>president trump explains new america first rai...</td>\n",
       "      <td>talking another campaign promise kept wonder d...</td>\n",
       "      <td>politics</td>\n",
       "      <td>Aug 2, 2017</td>\n",
       "      <td>Fake</td>\n",
       "    </tr>\n",
       "    <tr>\n",
       "      <th>1</th>\n",
       "      <td>terminally ill former miss wi last breath use ...</td>\n",
       "      <td>sean hannity media personality able find amazi...</td>\n",
       "      <td>politics</td>\n",
       "      <td>Oct 4, 2016</td>\n",
       "      <td>Fake</td>\n",
       "    </tr>\n",
       "    <tr>\n",
       "      <th>2</th>\n",
       "      <td>cruz humiliated moderator lie presidents appoi...</td>\n",
       "      <td>almost immediately learning longtime supreme c...</td>\n",
       "      <td>News</td>\n",
       "      <td>February 13, 2016</td>\n",
       "      <td>Fake</td>\n",
       "    </tr>\n",
       "    <tr>\n",
       "      <th>3</th>\n",
       "      <td>russia revels trump victory looks sanctions re...</td>\n",
       "      <td>moscow reuters mutual praise russian president...</td>\n",
       "      <td>politicsNews</td>\n",
       "      <td>November 9, 2016</td>\n",
       "      <td>Real</td>\n",
       "    </tr>\n",
       "    <tr>\n",
       "      <th>4</th>\n",
       "      <td>trump bid open u monuments development draws c...</td>\n",
       "      <td>washington reuters trump administration call o...</td>\n",
       "      <td>politicsNews</td>\n",
       "      <td>May 26, 2017</td>\n",
       "      <td>Real</td>\n",
       "    </tr>\n",
       "  </tbody>\n",
       "</table>\n",
       "</div>"
      ],
      "text/plain": [
       "                                     noStopWordTitle  \\\n",
       "0  president trump explains new america first rai...   \n",
       "1  terminally ill former miss wi last breath use ...   \n",
       "2  cruz humiliated moderator lie presidents appoi...   \n",
       "3  russia revels trump victory looks sanctions re...   \n",
       "4  trump bid open u monuments development draws c...   \n",
       "\n",
       "                                      noStopWordText       subject  \\\n",
       "0  talking another campaign promise kept wonder d...      politics   \n",
       "1  sean hannity media personality able find amazi...      politics   \n",
       "2  almost immediately learning longtime supreme c...          News   \n",
       "3  moscow reuters mutual praise russian president...  politicsNews   \n",
       "4  washington reuters trump administration call o...  politicsNews   \n",
       "\n",
       "                date class  \n",
       "0        Aug 2, 2017  Fake  \n",
       "1        Oct 4, 2016  Fake  \n",
       "2  February 13, 2016  Fake  \n",
       "3  November 9, 2016   Real  \n",
       "4      May 26, 2017   Real  "
      ]
     },
     "execution_count": 18,
     "metadata": {},
     "output_type": "execute_result"
    }
   ],
   "source": [
    "train.head()"
   ]
  },
  {
   "cell_type": "markdown",
   "metadata": {
    "papermill": {
     "duration": 0.062267,
     "end_time": "2020-11-03T16:46:59.982422",
     "exception": false,
     "start_time": "2020-11-03T16:46:59.920155",
     "status": "completed"
    },
    "tags": []
   },
   "source": [
    "# Top unigrams, bigrams and trigrams used in the title"
   ]
  },
  {
   "cell_type": "markdown",
   "metadata": {
    "papermill": {
     "duration": 0.063939,
     "end_time": "2020-11-03T16:47:00.109339",
     "exception": false,
     "start_time": "2020-11-03T16:47:00.045400",
     "status": "completed"
    },
    "tags": []
   },
   "source": [
    "Separating the Fake and Real titles"
   ]
  },
  {
   "cell_type": "code",
   "execution_count": 19,
   "metadata": {
    "execution": {
     "iopub.execute_input": "2020-11-03T16:47:00.254795Z",
     "iopub.status.busy": "2020-11-03T16:47:00.253777Z",
     "iopub.status.idle": "2020-11-03T16:47:00.273676Z",
     "shell.execute_reply": "2020-11-03T16:47:00.272673Z"
    },
    "papermill": {
     "duration": 0.09983,
     "end_time": "2020-11-03T16:47:00.273858",
     "exception": false,
     "start_time": "2020-11-03T16:47:00.174028",
     "status": "completed"
    },
    "tags": []
   },
   "outputs": [],
   "source": [
    "fakeTitles = train.noStopWordTitle[train['class'] == 'Fake']\n",
    "realTitles = train.noStopWordTitle[train['class'] == 'Real']\n",
    "\n",
    "mergedFake = ' '.join(fakeTitles)\n",
    "mergedReal = ' '.join(realTitles)"
   ]
  },
  {
   "cell_type": "code",
   "execution_count": 20,
   "metadata": {
    "execution": {
     "iopub.execute_input": "2020-11-03T16:47:00.411986Z",
     "iopub.status.busy": "2020-11-03T16:47:00.411040Z",
     "iopub.status.idle": "2020-11-03T16:47:00.414728Z",
     "shell.execute_reply": "2020-11-03T16:47:00.414031Z"
    },
    "papermill": {
     "duration": 0.074312,
     "end_time": "2020-11-03T16:47:00.414881",
     "exception": false,
     "start_time": "2020-11-03T16:47:00.340569",
     "status": "completed"
    },
    "tags": []
   },
   "outputs": [],
   "source": [
    "from nltk import word_tokenize\n",
    "from nltk.util import ngrams\n",
    "from collections import Counter\n",
    "\n",
    "def ngramFunct(corpus, n):\n",
    "    token = nltk.word_tokenize(corpus)\n",
    "    ans = ngrams(token,n)\n",
    "    return(Counter(ans))"
   ]
  },
  {
   "cell_type": "markdown",
   "metadata": {
    "papermill": {
     "duration": 0.062461,
     "end_time": "2020-11-03T16:47:00.541640",
     "exception": false,
     "start_time": "2020-11-03T16:47:00.479179",
     "status": "completed"
    },
    "tags": []
   },
   "source": [
    "### Unigrams"
   ]
  },
  {
   "cell_type": "code",
   "execution_count": 21,
   "metadata": {
    "execution": {
     "iopub.execute_input": "2020-11-03T16:47:00.675529Z",
     "iopub.status.busy": "2020-11-03T16:47:00.674646Z",
     "iopub.status.idle": "2020-11-03T16:47:04.641041Z",
     "shell.execute_reply": "2020-11-03T16:47:04.640350Z"
    },
    "papermill": {
     "duration": 4.035446,
     "end_time": "2020-11-03T16:47:04.641182",
     "exception": false,
     "start_time": "2020-11-03T16:47:00.605736",
     "status": "completed"
    },
    "tags": []
   },
   "outputs": [],
   "source": [
    "unigramReal = ngramFunct(mergedReal, 1)\n",
    "unigramFake = ngramFunct(mergedFake, 1)\n",
    "ufreqReal = (nltk.FreqDist(unigramReal))\n",
    "ufreqFake = (nltk.FreqDist(unigramFake))"
   ]
  },
  {
   "cell_type": "code",
   "execution_count": 22,
   "metadata": {
    "execution": {
     "iopub.execute_input": "2020-11-03T16:47:04.775007Z",
     "iopub.status.busy": "2020-11-03T16:47:04.773975Z",
     "iopub.status.idle": "2020-11-03T16:47:05.238151Z",
     "shell.execute_reply": "2020-11-03T16:47:05.237369Z"
    },
    "papermill": {
     "duration": 0.533373,
     "end_time": "2020-11-03T16:47:05.238279",
     "exception": false,
     "start_time": "2020-11-03T16:47:04.704906",
     "status": "completed"
    },
    "tags": []
   },
   "outputs": [
    {
     "data": {
      "image/png": "[encoded data removed]",
      "text/plain": [
       "<Figure size 432x288 with 1 Axes>"
      ]
     },
     "metadata": {
      "needs_background": "light"
     },
     "output_type": "display_data"
    },
    {
     "data": {
      "image/png": "[encoded data removed]",
      "text/plain": [
       "<Figure size 432x288 with 1 Axes>"
      ]
     },
     "metadata": {
      "needs_background": "light"
     },
     "output_type": "display_data"
    }
   ],
   "source": [
    "plt.title('Top 20 Unigrams in Real News')\n",
    "ufreqReal.plot(20, cumulative=False, color = 'b');\n",
    "\n",
    "plt.title('Top 20 Unigrams in Fake News')\n",
    "ufreqFake.plot(20, cumulative=False, color = 'r');"
   ]
  },
  {
   "cell_type": "markdown",
   "metadata": {
    "papermill": {
     "duration": 0.06449,
     "end_time": "2020-11-03T16:47:05.368273",
     "exception": false,
     "start_time": "2020-11-03T16:47:05.303783",
     "status": "completed"
    },
    "tags": []
   },
   "source": [
    "### Bigrams"
   ]
  },
  {
   "cell_type": "code",
   "execution_count": 23,
   "metadata": {
    "execution": {
     "iopub.execute_input": "2020-11-03T16:47:05.948725Z",
     "iopub.status.busy": "2020-11-03T16:47:05.923011Z",
     "iopub.status.idle": "2020-11-03T16:47:09.314691Z",
     "shell.execute_reply": "2020-11-03T16:47:09.313926Z"
    },
    "papermill": {
     "duration": 3.881951,
     "end_time": "2020-11-03T16:47:09.314843",
     "exception": false,
     "start_time": "2020-11-03T16:47:05.432892",
     "status": "completed"
    },
    "tags": []
   },
   "outputs": [],
   "source": [
    "bigramReal = ngramFunct(mergedReal, 2)\n",
    "bigramFake = ngramFunct(mergedFake, 2)\n",
    "bfreqReal = (nltk.FreqDist(bigramReal))\n",
    "bfreqFake = (nltk.FreqDist(bigramFake))"
   ]
  },
  {
   "cell_type": "code",
   "execution_count": 24,
   "metadata": {
    "execution": {
     "iopub.execute_input": "2020-11-03T16:47:09.465854Z",
     "iopub.status.busy": "2020-11-03T16:47:09.454199Z",
     "iopub.status.idle": "2020-11-03T16:47:09.992405Z",
     "shell.execute_reply": "2020-11-03T16:47:09.991797Z"
    },
    "papermill": {
     "duration": 0.611344,
     "end_time": "2020-11-03T16:47:09.992532",
     "exception": false,
     "start_time": "2020-11-03T16:47:09.381188",
     "status": "completed"
    },
    "tags": []
   },
   "outputs": [
    {
     "data": {
      "image/png": "[encoded data removed]",
      "text/plain": [
       "<Figure size 432x288 with 1 Axes>"
      ]
     },
     "metadata": {
      "needs_background": "light"
     },
     "output_type": "display_data"
    },
    {
     "data": {
      "image/png": "[encoded data removed]",
      "text/plain": [
       "<Figure size 432x288 with 1 Axes>"
      ]
     },
     "metadata": {
      "needs_background": "light"
     },
     "output_type": "display_data"
    }
   ],
   "source": [
    "plt.title('Top 20 Bigrams in Real News')\n",
    "bfreqReal.plot(20, cumulative=False, color = 'b');\n",
    "\n",
    "plt.title('Top 20 Bigrams in Fake News')\n",
    "bfreqFake.plot(20, cumulative=False, color = 'r');"
   ]
  },
  {
   "cell_type": "markdown",
   "metadata": {
    "papermill": {
     "duration": 0.067514,
     "end_time": "2020-11-03T16:47:10.128502",
     "exception": false,
     "start_time": "2020-11-03T16:47:10.060988",
     "status": "completed"
    },
    "tags": []
   },
   "source": [
    "### Trigrams"
   ]
  },
  {
   "cell_type": "code",
   "execution_count": 25,
   "metadata": {
    "execution": {
     "iopub.execute_input": "2020-11-03T16:47:10.752948Z",
     "iopub.status.busy": "2020-11-03T16:47:10.585585Z",
     "iopub.status.idle": "2020-11-03T16:47:14.071649Z",
     "shell.execute_reply": "2020-11-03T16:47:14.070869Z"
    },
    "papermill": {
     "duration": 3.87521,
     "end_time": "2020-11-03T16:47:14.071774",
     "exception": false,
     "start_time": "2020-11-03T16:47:10.196564",
     "status": "completed"
    },
    "tags": []
   },
   "outputs": [],
   "source": [
    "trigramReal = ngramFunct(mergedReal, 3)\n",
    "trigramFake = ngramFunct(mergedFake, 3)\n",
    "tfreqReal = (nltk.FreqDist(trigramReal))\n",
    "tfreqFake = (nltk.FreqDist(trigramFake))"
   ]
  },
  {
   "cell_type": "code",
   "execution_count": 26,
   "metadata": {
    "execution": {
     "iopub.execute_input": "2020-11-03T16:47:14.237016Z",
     "iopub.status.busy": "2020-11-03T16:47:14.236206Z",
     "iopub.status.idle": "2020-11-03T16:47:14.887467Z",
     "shell.execute_reply": "2020-11-03T16:47:14.886830Z"
    },
    "papermill": {
     "duration": 0.748142,
     "end_time": "2020-11-03T16:47:14.887589",
     "exception": false,
     "start_time": "2020-11-03T16:47:14.139447",
     "status": "completed"
    },
    "tags": []
   },
   "outputs": [
    {
     "data": {
      "image/png": "[encoded data removed]",
      "text/plain": [
       "<Figure size 432x288 with 1 Axes>"
      ]
     },
     "metadata": {
      "needs_background": "light"
     },
     "output_type": "display_data"
    },
    {
     "data": {
      "image/png": "[encoded data removed]",
      "text/plain": [
       "<Figure size 432x288 with 1 Axes>"
      ]
     },
     "metadata": {
      "needs_background": "light"
     },
     "output_type": "display_data"
    }
   ],
   "source": [
    "plt.title('Top 20 Trigrams in Real News')\n",
    "tfreqReal.plot(20, cumulative=False, color = 'b');\n",
    "\n",
    "plt.title('Top 20 Trigrams in Fake News')\n",
    "tfreqFake.plot(20, cumulative=False, color = 'r');"
   ]
  },
  {
   "cell_type": "markdown",
   "metadata": {
    "papermill": {
     "duration": 0.069812,
     "end_time": "2020-11-03T16:47:15.028192",
     "exception": false,
     "start_time": "2020-11-03T16:47:14.958380",
     "status": "completed"
    },
    "tags": []
   },
   "source": [
    "# Model Building"
   ]
  },
  {
   "cell_type": "markdown",
   "metadata": {
    "papermill": {
     "duration": 0.071767,
     "end_time": "2020-11-03T16:47:15.171218",
     "exception": false,
     "start_time": "2020-11-03T16:47:15.099451",
     "status": "completed"
    },
    "tags": []
   },
   "source": [
    "I first tried to use the models on the titles only and then the text only and then merged the titles and text."
   ]
  },
  {
   "cell_type": "markdown",
   "metadata": {
    "papermill": {
     "duration": 0.074409,
     "end_time": "2020-11-03T16:47:15.316854",
     "exception": false,
     "start_time": "2020-11-03T16:47:15.242445",
     "status": "completed"
    },
    "tags": []
   },
   "source": [
    "### Stemming the words"
   ]
  },
  {
   "cell_type": "code",
   "execution_count": 27,
   "metadata": {
    "execution": {
     "iopub.execute_input": "2020-11-03T16:47:15.468970Z",
     "iopub.status.busy": "2020-11-03T16:47:15.467850Z",
     "iopub.status.idle": "2020-11-03T16:47:15.471514Z",
     "shell.execute_reply": "2020-11-03T16:47:15.470860Z"
    },
    "papermill": {
     "duration": 0.084069,
     "end_time": "2020-11-03T16:47:15.471646",
     "exception": false,
     "start_time": "2020-11-03T16:47:15.387577",
     "status": "completed"
    },
    "tags": []
   },
   "outputs": [],
   "source": [
    "from nltk.stem.snowball import SnowballStemmer\n",
    "\n",
    "def stem(data):    \n",
    "    stemmer = SnowballStemmer('english')\n",
    "    stemmed = []\n",
    "    for i in range(len(data)):\n",
    "        temp = data[i]\n",
    "        temp = [stemmer.stem(word) for word in temp]\n",
    "        temp = ''.join(temp)\n",
    "        stemmed.append(temp)\n",
    "    return(stemmed)"
   ]
  },
  {
   "cell_type": "markdown",
   "metadata": {
    "papermill": {
     "duration": 0.070316,
     "end_time": "2020-11-03T16:47:15.613061",
     "exception": false,
     "start_time": "2020-11-03T16:47:15.542745",
     "status": "completed"
    },
    "tags": []
   },
   "source": [
    "## Applying models to the Titles"
   ]
  },
  {
   "cell_type": "code",
   "execution_count": 28,
   "metadata": {
    "execution": {
     "iopub.execute_input": "2020-11-03T16:47:15.773579Z",
     "iopub.status.busy": "2020-11-03T16:47:15.763196Z",
     "iopub.status.idle": "2020-11-03T16:47:17.826857Z",
     "shell.execute_reply": "2020-11-03T16:47:17.826070Z"
    },
    "papermill": {
     "duration": 2.14328,
     "end_time": "2020-11-03T16:47:17.826985",
     "exception": false,
     "start_time": "2020-11-03T16:47:15.683705",
     "status": "completed"
    },
    "tags": []
   },
   "outputs": [
    {
     "data": {
      "text/plain": [
       "['president trump explains new america first raise act welfare new immigrants migrants favors english speaking immigrants protects jobs minorities us workers replaced video',\n",
       " 'terminally ill former miss wi last breath use voice tell mr trump really video',\n",
       " 'cruz humiliated moderator lie presidents appointing justices election year',\n",
       " 'russia revels trump victory looks sanctions relief',\n",
       " 'trump bid open u monuments development draws calls protection',\n",
       " 'unreal ice released deport criminal illegals video',\n",
       " 'consequences liberal tolerance isis flag hanging roof yet one reported video',\n",
       " 'u news world report publishes list top popular nations refugees want live',\n",
       " 'trump administration nafta demands make sense union pacific ceo',\n",
       " 'turks flock social media gold trader sanctions case']"
      ]
     },
     "execution_count": 28,
     "metadata": {},
     "output_type": "execute_result"
    }
   ],
   "source": [
    "titleCorpus = stem(train.noStopWordTitle)\n",
    "titleCorpus[:10]"
   ]
  },
  {
   "cell_type": "markdown",
   "metadata": {
    "papermill": {
     "duration": 0.072305,
     "end_time": "2020-11-03T16:47:17.971735",
     "exception": false,
     "start_time": "2020-11-03T16:47:17.899430",
     "status": "completed"
    },
    "tags": []
   },
   "source": [
    "### TF-IDF"
   ]
  },
  {
   "cell_type": "code",
   "execution_count": 29,
   "metadata": {
    "execution": {
     "iopub.execute_input": "2020-11-03T16:47:18.175414Z",
     "iopub.status.busy": "2020-11-03T16:47:18.154153Z",
     "iopub.status.idle": "2020-11-03T16:47:22.838572Z",
     "shell.execute_reply": "2020-11-03T16:47:22.837756Z"
    },
    "papermill": {
     "duration": 4.795099,
     "end_time": "2020-11-03T16:47:22.838697",
     "exception": false,
     "start_time": "2020-11-03T16:47:18.043598",
     "status": "completed"
    },
    "tags": []
   },
   "outputs": [],
   "source": [
    "from sklearn.feature_extraction.text import TfidfVectorizer\n",
    "tf = TfidfVectorizer(max_features=5000, ngram_range=(1, 3))\n",
    "X = tf.fit_transform(titleCorpus).toarray()\n",
    "y = train['class']"
   ]
  },
  {
   "cell_type": "code",
   "execution_count": 30,
   "metadata": {
    "execution": {
     "iopub.execute_input": "2020-11-03T16:47:22.991098Z",
     "iopub.status.busy": "2020-11-03T16:47:22.989792Z",
     "iopub.status.idle": "2020-11-03T16:47:23.928157Z",
     "shell.execute_reply": "2020-11-03T16:47:23.927481Z"
    },
    "papermill": {
     "duration": 1.017606,
     "end_time": "2020-11-03T16:47:23.928312",
     "exception": false,
     "start_time": "2020-11-03T16:47:22.910706",
     "status": "completed"
    },
    "tags": []
   },
   "outputs": [],
   "source": [
    "X_train, X_val, y_train, y_val = train_test_split(X, y, test_size = 0.33)"
   ]
  },
  {
   "cell_type": "markdown",
   "metadata": {
    "papermill": {
     "duration": 0.072315,
     "end_time": "2020-11-03T16:47:24.074255",
     "exception": false,
     "start_time": "2020-11-03T16:47:24.001940",
     "status": "completed"
    },
    "tags": []
   },
   "source": [
    "### Multinomial Naive Bayes"
   ]
  },
  {
   "cell_type": "code",
   "execution_count": 31,
   "metadata": {
    "execution": {
     "iopub.execute_input": "2020-11-03T16:47:24.226243Z",
     "iopub.status.busy": "2020-11-03T16:47:24.225296Z",
     "iopub.status.idle": "2020-11-03T16:47:25.115479Z",
     "shell.execute_reply": "2020-11-03T16:47:25.114843Z"
    },
    "papermill": {
     "duration": 0.969824,
     "end_time": "2020-11-03T16:47:25.115603",
     "exception": false,
     "start_time": "2020-11-03T16:47:24.145779",
     "status": "completed"
    },
    "tags": []
   },
   "outputs": [
    {
     "name": "stdout",
     "output_type": "stream",
     "text": [
      "Accuracy : 0.929\n"
     ]
    },
    {
     "data": {
      "image/png": "[encoded data removed]",
      "text/plain": [
       "<Figure size 432x288 with 2 Axes>"
      ]
     },
     "metadata": {
      "needs_background": "light"
     },
     "output_type": "display_data"
    }
   ],
   "source": [
    "from sklearn.naive_bayes import MultinomialNB\n",
    "classifierMNB = MultinomialNB()\n",
    "classifierMNB.fit(X_train, y_train) \n",
    "pred = classifierMNB.predict(X_val)\n",
    "score = metrics.accuracy_score(y_val, pred)\n",
    "print('Accuracy : %0.3f' %score)\n",
    "\n",
    "cm = plot_confusion_matrix(classifierMNB, X_val, y_val, cmap = 'coolwarm')"
   ]
  },
  {
   "cell_type": "markdown",
   "metadata": {
    "papermill": {
     "duration": 0.07291,
     "end_time": "2020-11-03T16:47:25.261600",
     "exception": false,
     "start_time": "2020-11-03T16:47:25.188690",
     "status": "completed"
    },
    "tags": []
   },
   "source": [
    "### Passive Aggressive Classifier"
   ]
  },
  {
   "cell_type": "code",
   "execution_count": 32,
   "metadata": {
    "execution": {
     "iopub.execute_input": "2020-11-03T16:47:25.416973Z",
     "iopub.status.busy": "2020-11-03T16:47:25.415602Z",
     "iopub.status.idle": "2020-11-03T16:48:16.550481Z",
     "shell.execute_reply": "2020-11-03T16:48:16.551025Z"
    },
    "papermill": {
     "duration": 51.216396,
     "end_time": "2020-11-03T16:48:16.551203",
     "exception": false,
     "start_time": "2020-11-03T16:47:25.334807",
     "status": "completed"
    },
    "tags": []
   },
   "outputs": [
    {
     "name": "stdout",
     "output_type": "stream",
     "text": [
      "Accuracy : 0.912\n"
     ]
    },
    {
     "data": {
      "image/png": "[encoded data removed]",
      "text/plain": [
       "<Figure size 432x288 with 2 Axes>"
      ]
     },
     "metadata": {
      "needs_background": "light"
     },
     "output_type": "display_data"
    }
   ],
   "source": [
    "from sklearn.linear_model import PassiveAggressiveClassifier\n",
    "classifierPAC = PassiveAggressiveClassifier(n_iter_no_change=50)\n",
    "classifierPAC.fit(X_train, y_train)\n",
    "pred = classifierPAC.predict(X_val)\n",
    "score = metrics.accuracy_score(y_val, pred)\n",
    "print('Accuracy : %0.3f'%score)\n",
    "cm = plot_confusion_matrix(classifierPAC, X_val, y_val, cmap = 'coolwarm')"
   ]
  },
  {
   "cell_type": "markdown",
   "metadata": {
    "papermill": {
     "duration": 0.073442,
     "end_time": "2020-11-03T16:48:16.703854",
     "exception": false,
     "start_time": "2020-11-03T16:48:16.630412",
     "status": "completed"
    },
    "tags": []
   },
   "source": [
    "## Applying models to the Text"
   ]
  },
  {
   "cell_type": "code",
   "execution_count": 33,
   "metadata": {
    "execution": {
     "iopub.execute_input": "2020-11-03T16:48:16.887104Z",
     "iopub.status.busy": "2020-11-03T16:48:16.882023Z",
     "iopub.status.idle": "2020-11-03T16:49:04.153809Z",
     "shell.execute_reply": "2020-11-03T16:49:04.154429Z"
    },
    "papermill": {
     "duration": 47.376524,
     "end_time": "2020-11-03T16:49:04.154578",
     "exception": false,
     "start_time": "2020-11-03T16:48:16.778054",
     "status": "completed"
    },
    "tags": []
   },
   "outputs": [
    {
     "data": {
      "text/plain": [
       "['talking another campaign promise kept wonder democrats media allies fear president trump last time politician actually followed promise made american voters helped get elected president trump joined two republican senators wednesday champion legislation overhauling legal immigration america calling merit based system would significantly cut admissions next decade speaking white house president called significant reform immigration system half century candidate campaigned creating merit based immigration system protects u workers taxpayers today trump said joined georgia sen david perdue arkansas sen tom cotton republicans first introduced reforming american immigration strong economy raise act february said legislation aims reduce number green cards issued half million year trump perdue cotton argued tuesday low skilled unskilled immigration united states depressed wages according fact sheet released reporters new system would favor immigrants educated speak english high paying job offers would also reduce low skilled unskilled labor immigration trump said new immigrants must able financially support families raise act prevents new migrants new immigrants collecting welfare protects u workers displaced president said big thing going come immediately go collect welfare bill would prioritize immediate family members united states residents including spouses young children would end prioritization extended family members adult children residents legislation also eliminates diversity visa lottery system limits permanent resident status refugees year trump lamented country record numbers green cards low wage immigrants white house said million immigrants accepted united states legal permanent residency every year low unskilled workers among hardest hit president said minority workers said competing jobs brand new arrivals fair people citizens workers said administration also said percent immigrant households receive welfare benefits opposed percent native households country entire story fox news',\n",
       " 'sean hannity media personality able find amazing strong women stories every american voter hear trump really treats women genuine concern others former miss wi mellissa young story heartbreaking admiration respect donald trump unmistakeable watch former vp trump international senada adzem former miss usa carrie prajean boller speak hannity',\n",
       " 'almost immediately learning longtime supreme court justice antonin scalia passed away suddenly hunting trip texas sen ted cruz joined fellow republican senators boldly announcing would oppose nomination president obama made block process remaining days term justice scalia american hero owe nation senate ensure next president names replacement ted cruz tedcruz february republicans cruz included instantly greeted collective hell thinking american people ability appoint supreme court justice replace one retired passed away president right constitutional law way hundred years suggesting otherwise violation one country bedrock democratic principles republican debate held later day cruz asked justify torching constitution defensible like current president responded fair appoint new justice election year fact claimed one appointed last year presidency years instantly moderator john dickerson bullshit detector lit cruz lie egregious pants may well spontaneously combusted sorry interrupt nominees appointed election year years happened appointees election year cruz doubles lie years confirming example lbj nominated abe fordus fordus get confirmed defeated john dickerson drops hammer kennedy confirmed election year cruz comes back lie number kennedy confirmed immediately fact checked yet appointed confirmed words decades ago country faced similar dilemma stuck constitution legal team nbc news confirmed kennedy indeed nominated confirmed country fine record justice anthony kennedy confirmed nominated research mtp shawna thomas shawnanbcnews february usual cruz leg stand simply wants way want bothered worrying facts fortunately dickerson one rare debate moderators cruz spew lies get pushback watch video featured image via cbs news',\n",
       " 'moscow reuters mutual praise russian president vladimir putin u president elect donald trump likely disagree many things trump election win could hand moscow elusive prize lifting easing western sanctions rolling back sanctions imposed united states european union punish moscow annexation ukraine crimea support separatists eastern ukraine could spur investment russia flat lining economy might make even easier putin trying plug holes state budget inflicted low oil prices sanctions win fourth presidential term allowing show returned economy growth clearly chances sanctions lifted russia risen substantially charles robertson renaissance capital global chief economist said would improve investment climate russia russia rouble currency stocks gained trump election victory ukraine dollar denominated bonds tumbled multi month lows reflecting pessimism trump presidency means divided indebted country kremlin bracing fraught relations white house hillary clinton politician putin accused stirring protests state media portrayed anti russian warmonger trump portrayed positive light putin described talented kremlin backed media cast plucky political maverick still moscow believed republican candidate would win apart group trump supporting nationalists gathered moscow bar decorated triptych putin trump french front national leader marine le pen became clear russia parliament erupted applause putin told foreign ambassadors ready fully restore ties washington state tv ran clip russian doppelganger trump taunting cowed clinton lookalike margarita simonyan boss rt kremlin english language tv news channel said would drive around moscow u flag celebrate russian glee tempered recognition trump pre election promises might diluted deep contradictions moscow washington would remain even trump putin adopt friendly tone public trump attempts ease restrictions business russia could also constrained congress shown little patience kremlin military adventures executives western firms say biggest obstacle deals russia sanctions prospect could imposed zeal existing sanctions enforced trump white house send signal businesses taking lax approach investments could start flowing sanctions still place softer u stance could also weaken european sanctions resolve bloc measures already started look wobbly member states finding ways circumvent others saying time discuss moving business groups countries germany lobbying washington helped stiffen european resolve russia placed eurobond may year many european banks decided take part want fall foul u financial regulators america leader amazingly able hold europe together sanctions political analyst masha lipman told reuters donald trump white house think may changes something might beneficial russia putin needs sanctions lifted risk hurting election prospects russia central bank forecasting economic growth percent next year well level russian households come expect previous slumps recoveries driven foreign lending investment already signs economy hurting support putin trend likely grow months russian presidential election kremlin watchers said even u relations less antagonistic trump white house deal would involve hard bargaining sides russia seeking formal recognition world crimea part ukraine russian territory something got far apart handful nations also wants kiev implement peace deal covering eastern ukraine pro russian separatists hold sway syria russia helping president bashar al assad fight war air strikes military assistance moscow wants west drop ideas changing government abandon help says hardline islamists drop talk possible fly zones one possibility quid pro quo russia making concessions syria exchange united states ceding ground ukraine sanctions russia key point ukraine trump says america care ukraine russia wants hear right georgy bovt editor russkiy mir magazine told reuters syria easier reach deal think assad russia willing compromise ukraine important russia much made russian western media perceived similarities differences putin trump never met fond tough talking russian politicians suggested pair might able forge close working relationship similar one russian leader enjoyed former italian prime minister silvio berlusconi trump said might even meet putin inauguration putin spokesman said currently plans meeting people familiar men leadership styles advised caution however saying relatively thin skinned came criticism andrey kortunov director general russian international affairs council think tank close foreign ministry told reuters fact trump untested politician would also worry kremlin loose cannon never know expect said also concerns two men might alike problem putin trump macho sergei markov kremlin connected analyst former pro putin lawmaker told reuters could try take measure let happen',\n",
       " 'washington reuters trump administration call opening u national monuments economic development drawn comments public many expressing hope sites like utah bears ears maintain protected status president donald trump last month ordered interior department review national monuments created since eye rescinding shrinking size increase development opportunities would travesty leave landscape vulnerable uranium fossil fuel mining excessive road vehicle use navajo led bears ears inter tribal coalition wrote one public comment five tribe group oversees bears ears monument lobbied hard secure monument designation former president barack obama december interior secretary ryan zinke gave public may comment bears ears country newest monument july comment rest friday groups individuals posted comments government website created receive part review process high number given short time frame commerce department call public comments regulatory hurdles completed last month drew comments one public comment made anonymously urged zinke bow industry political pressure alter bears ears monument hard thing speak many said many industry groups politicians including utah governor two senators congressman want zinke reverse monument designations turn control protected lands states zinke due give recommendation trump bears ears june publish report monuments later conservation groups said support national monuments wider online comments suggest issue strikes nerve people said randi spivak center biological diversity many opponents monument designations posted comments arguing barring large swaths land development keeps public fully enjoying areas sweeping monument designations restrict eliminate opportunities responsible highway motorized recreation public lands said one anonymous comment self described member american motorcycle association',\n",
       " 'thank goodness center immigration studies jessica vaughan center director policy studies outspoken lack enforcement federal law comes criminal illegal aliens numbers staggering mark meadows r nc many drug dealers many rapists many kidnappers let get jail free card u immigration customs enforcement agency decided deport release criminal illegal immigrants including convicted murder convicted sex crimes drunk driving according new government numbers overall released virtually every state territory america total convictions among average convictions according analysis center immigration studies ice also said group convicted violent crimes meanwhile ice said also slashed number criminals arrested local communities according center director policy studies jessica vaughan ice made arrests half number arrests made said analysis also included map releases reason president obama immigration policy changes many criminal immigrants ignored even though local police sheriff urged ice take control criminals jails deport said slash arrests number releases ice criminal illegals released trey gowdy',\n",
       " 'terrified concert goers fled ariana grande gig salman abedi detonated bomb full shrapnel nails late monday evening shocking footage showed carnage brought streets manchester people injured blast disgusting hate cult isis claimed responsibility attack described abedi one soldiers former neighbour suicide bomber believes could member terror group quite time antone jones lived close attacker fallowfield area city described seeing isis flag draped roof house told men never really knew well always kept two years ago black flag roof arabic writing never idea anything like though quiet another neighbour gorton said manner led believe member isis said walked past one evening looked cold black eyes expression want see face looked way suggested could take care said time surprised isis entire story daily star',\n",
       " 'people regions world participated best countries survey assessed closely associated countries specific characteristics four economically stable good job market income equality place would live included best countries immigrant ranking countries also scored relation others share migrants population amount remittances migrants host sent home graded united nations assessment integration measures provided immigrants language training transfers job certifications rationale behind current integration policies lol assimilation ed note important remittances dollars sent host economy bet buck economic study seeks justify migration benefits country never factors much migrants earnings welfare payments sent country thus lost host country economy ann corcoran refugee resettlement watch sweden coincidentally country long time ranked fall islamists canada sure northern border fortified switzerland australia germany norway us netherlands finland denmarknotice arab mostly muslim countries desired destination gee',\n",
       " 'detroit reuters list priorities u trade representative robert lighthizer released week renegotiation nafta mexico canada reasonable line trump administration promised focus head america largest railroad said thursday reasonable document union pacific corp unp n chief executive lance fritz said interview list priorities released week lighthizer perspective lighthizer hit elements heard administration make sense republican u president donald trump threatened exit north american free trade agreement renegotiated favor united states talks mexico canada revisions treaty came effect due start mid august top priority talks listed lighthizer office shrinking u trade deficit canada mexico union pacific fritz said lighthizer focus intellectual property labor laws dispute resolution mechanisms make sense makes sense us elements lighthizer priorities focusing streamlining freight across border added percent union pacific freight volume based international trade percent based cross border trade mexico fritz said mexico continue good driver union pacific growth ceo spoke reuters union pacific posted better expected second quarter profit lifted part percent jump coal revenue major u railroads seen resurgence coal volumes year following two years precipitous declines many utilities switched burning cheaper natural gas unseasonable weather resulted large stockpiles unburned coal union pacific said thursday coal volumes third quarter relatively flat versus period expect coal bit stable moving forward dependent natural gas pricing degree weather fritz said large inventory overhang largely consumed good news',\n",
       " 'ankara reuters allegations wrongdoing turkey political financial leaders transfixed country week newspapers focusing instead courtroom conspiracies clothes many turks left hungry news casual chic nd day read haberturk newspaper front page story main witness reza zarrab told new york court president recep tayyip erdogan authorized transaction scheme help iran evade u sanctions second day trial reza zarrab wearing prison uniform casual chic white shirt dark blazer haberturk said like publications haberturk stepped nimbly around substantive issues erdogan presided crackdown areas judiciary media since failed coup last year number journalists jailed also frequently taken court action deems insulted zarrab cooperating u prosecutors criminal trial turkish bank executive accused helping launder money iran executive pleaded guilty erdogan governed turkey almost years yet responded courtroom claims already dismissed case politically inspired attempt bring turkish government says network u based cleric fethullah gulen blamed ankara failed military coup known turkish authorities feto also behind court case pro government daily star branded case american theater front page zarrab plot trial political show staged feto together judges prosecutors experts neo cons enemies turkey limited skeptical coverage case encouraged curious turks take twitter hashtags zarrabcase zarrabkonusuyor zarrab speaking became top trending topics late wednesday thursday since trial started week hundreds thousands tweets retweets replies zarrab related hashtags twitter see televisions newspapers either cut feeds mention said oguzcan gundogmus year old phd student sipped tea central ankara court case reverberated streets spill beans son one elderly protester urged zarrab women demonstration istanbul last weekend focus online followers journalists tweeting inside courtroom surged past two days fold cases one court reporter tweets simultaneously translated turkish followed people far zarrab said court bribed several officials turkey part scheme surprised government still banned twitter friends stay nights follow case even make popcorn like movie night call case lord bribes said mehmet baglar year old engineer']"
      ]
     },
     "execution_count": 33,
     "metadata": {},
     "output_type": "execute_result"
    }
   ],
   "source": [
    "textCorpus = stem(train.noStopWordText)\n",
    "textCorpus[:10]"
   ]
  },
  {
   "cell_type": "markdown",
   "metadata": {
    "papermill": {
     "duration": 0.074738,
     "end_time": "2020-11-03T16:49:04.305410",
     "exception": false,
     "start_time": "2020-11-03T16:49:04.230672",
     "status": "completed"
    },
    "tags": []
   },
   "source": [
    "## TF-IDF"
   ]
  },
  {
   "cell_type": "code",
   "execution_count": 34,
   "metadata": {
    "execution": {
     "iopub.execute_input": "2020-11-03T16:49:04.532269Z",
     "iopub.status.busy": "2020-11-03T16:49:04.521925Z",
     "iopub.status.idle": "2020-11-03T16:50:51.884428Z",
     "shell.execute_reply": "2020-11-03T16:50:51.883547Z"
    },
    "papermill": {
     "duration": 107.503847,
     "end_time": "2020-11-03T16:50:51.884568",
     "exception": false,
     "start_time": "2020-11-03T16:49:04.380721",
     "status": "completed"
    },
    "tags": []
   },
   "outputs": [],
   "source": [
    "from sklearn.feature_extraction.text import TfidfVectorizer\n",
    "tf = TfidfVectorizer(max_features=5000, ngram_range=(1, 3))\n",
    "X = tf.fit_transform(textCorpus).toarray()\n",
    "y = train['class']"
   ]
  },
  {
   "cell_type": "code",
   "execution_count": 35,
   "metadata": {
    "execution": {
     "iopub.execute_input": "2020-11-03T16:50:52.105426Z",
     "iopub.status.busy": "2020-11-03T16:50:52.103757Z",
     "iopub.status.idle": "2020-11-03T16:50:52.629763Z",
     "shell.execute_reply": "2020-11-03T16:50:52.629094Z"
    },
    "papermill": {
     "duration": 0.659754,
     "end_time": "2020-11-03T16:50:52.629907",
     "exception": false,
     "start_time": "2020-11-03T16:50:51.970153",
     "status": "completed"
    },
    "tags": []
   },
   "outputs": [],
   "source": [
    "X_train, X_val, y_train, y_val = train_test_split(X, y, test_size = 0.33)"
   ]
  },
  {
   "cell_type": "markdown",
   "metadata": {
    "papermill": {
     "duration": 0.075057,
     "end_time": "2020-11-03T16:50:52.780319",
     "exception": false,
     "start_time": "2020-11-03T16:50:52.705262",
     "status": "completed"
    },
    "tags": []
   },
   "source": [
    "### Multinomial Naive Bayes"
   ]
  },
  {
   "cell_type": "code",
   "execution_count": 36,
   "metadata": {
    "execution": {
     "iopub.execute_input": "2020-11-03T16:50:52.941052Z",
     "iopub.status.busy": "2020-11-03T16:50:52.939695Z",
     "iopub.status.idle": "2020-11-03T16:50:53.821717Z",
     "shell.execute_reply": "2020-11-03T16:50:53.820970Z"
    },
    "papermill": {
     "duration": 0.965135,
     "end_time": "2020-11-03T16:50:53.821852",
     "exception": false,
     "start_time": "2020-11-03T16:50:52.856717",
     "status": "completed"
    },
    "tags": []
   },
   "outputs": [
    {
     "name": "stdout",
     "output_type": "stream",
     "text": [
      "Accuracy : 0.950\n"
     ]
    },
    {
     "data": {
      "image/png": "[encoded data removed]",
      "text/plain": [
       "<Figure size 432x288 with 2 Axes>"
      ]
     },
     "metadata": {
      "needs_background": "light"
     },
     "output_type": "display_data"
    }
   ],
   "source": [
    "from sklearn.naive_bayes import MultinomialNB\n",
    "classifierMNB = MultinomialNB()\n",
    "classifierMNB.fit(X_train, y_train) \n",
    "pred = classifierMNB.predict(X_val)\n",
    "score = metrics.accuracy_score(y_val, pred)\n",
    "print('Accuracy : %0.3f' %score)\n",
    "\n",
    "cm = plot_confusion_matrix(classifierMNB, X_val, y_val, cmap = 'coolwarm')"
   ]
  },
  {
   "cell_type": "markdown",
   "metadata": {
    "papermill": {
     "duration": 0.078668,
     "end_time": "2020-11-03T16:50:53.977290",
     "exception": false,
     "start_time": "2020-11-03T16:50:53.898622",
     "status": "completed"
    },
    "tags": []
   },
   "source": [
    "### Passive Aggressive Classifier"
   ]
  },
  {
   "cell_type": "code",
   "execution_count": 37,
   "metadata": {
    "execution": {
     "iopub.execute_input": "2020-11-03T16:50:54.140592Z",
     "iopub.status.busy": "2020-11-03T16:50:54.139828Z",
     "iopub.status.idle": "2020-11-03T16:51:17.338312Z",
     "shell.execute_reply": "2020-11-03T16:51:17.337689Z"
    },
    "papermill": {
     "duration": 23.283529,
     "end_time": "2020-11-03T16:51:17.338438",
     "exception": false,
     "start_time": "2020-11-03T16:50:54.054909",
     "status": "completed"
    },
    "tags": []
   },
   "outputs": [
    {
     "name": "stdout",
     "output_type": "stream",
     "text": [
      "Accuracy : 0.992\n"
     ]
    },
    {
     "data": {
      "image/png": "[encoded data removed]",
      "text/plain": [
       "<Figure size 432x288 with 2 Axes>"
      ]
     },
     "metadata": {
      "needs_background": "light"
     },
     "output_type": "display_data"
    }
   ],
   "source": [
    "from sklearn.linear_model import PassiveAggressiveClassifier\n",
    "classifierPAC = PassiveAggressiveClassifier(n_iter_no_change=50)\n",
    "classifierPAC.fit(X_train, y_train)\n",
    "pred = classifierPAC.predict(X_val)\n",
    "score = metrics.accuracy_score(y_val, pred)\n",
    "print('Accuracy : %0.3f'%score)\n",
    "cm = plot_confusion_matrix(classifierPAC, X_val, y_val, cmap = 'coolwarm')"
   ]
  },
  {
   "cell_type": "markdown",
   "metadata": {
    "papermill": {
     "duration": 0.080455,
     "end_time": "2020-11-03T16:51:17.497422",
     "exception": false,
     "start_time": "2020-11-03T16:51:17.416967",
     "status": "completed"
    },
    "tags": []
   },
   "source": [
    "## Combining the Title and Text and applying Models"
   ]
  },
  {
   "cell_type": "code",
   "execution_count": 38,
   "metadata": {
    "execution": {
     "iopub.execute_input": "2020-11-03T16:51:17.665771Z",
     "iopub.status.busy": "2020-11-03T16:51:17.660917Z",
     "iopub.status.idle": "2020-11-03T16:51:18.127425Z",
     "shell.execute_reply": "2020-11-03T16:51:18.126633Z"
    },
    "papermill": {
     "duration": 0.551569,
     "end_time": "2020-11-03T16:51:18.127558",
     "exception": false,
     "start_time": "2020-11-03T16:51:17.575989",
     "status": "completed"
    },
    "tags": []
   },
   "outputs": [
    {
     "data": {
      "text/html": [
       "<div>\n",
       "<style scoped>\n",
       "    .dataframe tbody tr th:only-of-type {\n",
       "        vertical-align: middle;\n",
       "    }\n",
       "\n",
       "    .dataframe tbody tr th {\n",
       "        vertical-align: top;\n",
       "    }\n",
       "\n",
       "    .dataframe thead th {\n",
       "        text-align: right;\n",
       "    }\n",
       "</style>\n",
       "<table border=\"1\" class=\"dataframe\">\n",
       "  <thead>\n",
       "    <tr style=\"text-align: right;\">\n",
       "      <th></th>\n",
       "      <th>noStopWordTitle</th>\n",
       "      <th>noStopWordText</th>\n",
       "      <th>subject</th>\n",
       "      <th>date</th>\n",
       "      <th>class</th>\n",
       "      <th>Title and Text</th>\n",
       "    </tr>\n",
       "  </thead>\n",
       "  <tbody>\n",
       "    <tr>\n",
       "      <th>0</th>\n",
       "      <td>president trump explains new america first rai...</td>\n",
       "      <td>talking another campaign promise kept wonder d...</td>\n",
       "      <td>politics</td>\n",
       "      <td>Aug 2, 2017</td>\n",
       "      <td>Fake</td>\n",
       "      <td>president trump explains new america first rai...</td>\n",
       "    </tr>\n",
       "    <tr>\n",
       "      <th>1</th>\n",
       "      <td>terminally ill former miss wi last breath use ...</td>\n",
       "      <td>sean hannity media personality able find amazi...</td>\n",
       "      <td>politics</td>\n",
       "      <td>Oct 4, 2016</td>\n",
       "      <td>Fake</td>\n",
       "      <td>terminally ill former miss wi last breath use ...</td>\n",
       "    </tr>\n",
       "    <tr>\n",
       "      <th>2</th>\n",
       "      <td>cruz humiliated moderator lie presidents appoi...</td>\n",
       "      <td>almost immediately learning longtime supreme c...</td>\n",
       "      <td>News</td>\n",
       "      <td>February 13, 2016</td>\n",
       "      <td>Fake</td>\n",
       "      <td>cruz humiliated moderator lie presidents appoi...</td>\n",
       "    </tr>\n",
       "    <tr>\n",
       "      <th>3</th>\n",
       "      <td>russia revels trump victory looks sanctions re...</td>\n",
       "      <td>moscow reuters mutual praise russian president...</td>\n",
       "      <td>politicsNews</td>\n",
       "      <td>November 9, 2016</td>\n",
       "      <td>Real</td>\n",
       "      <td>russia revels trump victory looks sanctions re...</td>\n",
       "    </tr>\n",
       "    <tr>\n",
       "      <th>4</th>\n",
       "      <td>trump bid open u monuments development draws c...</td>\n",
       "      <td>washington reuters trump administration call o...</td>\n",
       "      <td>politicsNews</td>\n",
       "      <td>May 26, 2017</td>\n",
       "      <td>Real</td>\n",
       "      <td>trump bid open u monuments development draws c...</td>\n",
       "    </tr>\n",
       "  </tbody>\n",
       "</table>\n",
       "</div>"
      ],
      "text/plain": [
       "                                     noStopWordTitle  \\\n",
       "0  president trump explains new america first rai...   \n",
       "1  terminally ill former miss wi last breath use ...   \n",
       "2  cruz humiliated moderator lie presidents appoi...   \n",
       "3  russia revels trump victory looks sanctions re...   \n",
       "4  trump bid open u monuments development draws c...   \n",
       "\n",
       "                                      noStopWordText       subject  \\\n",
       "0  talking another campaign promise kept wonder d...      politics   \n",
       "1  sean hannity media personality able find amazi...      politics   \n",
       "2  almost immediately learning longtime supreme c...          News   \n",
       "3  moscow reuters mutual praise russian president...  politicsNews   \n",
       "4  washington reuters trump administration call o...  politicsNews   \n",
       "\n",
       "                date class                                     Title and Text  \n",
       "0        Aug 2, 2017  Fake  president trump explains new america first rai...  \n",
       "1        Oct 4, 2016  Fake  terminally ill former miss wi last breath use ...  \n",
       "2  February 13, 2016  Fake  cruz humiliated moderator lie presidents appoi...  \n",
       "3  November 9, 2016   Real  russia revels trump victory looks sanctions re...  \n",
       "4      May 26, 2017   Real  trump bid open u monuments development draws c...  "
      ]
     },
     "execution_count": 38,
     "metadata": {},
     "output_type": "execute_result"
    }
   ],
   "source": [
    "train['Title and Text'] = train[['noStopWordTitle', 'noStopWordText']].apply(' '.join, axis=1)\n",
    "train.head()"
   ]
  },
  {
   "cell_type": "code",
   "execution_count": 39,
   "metadata": {
    "execution": {
     "iopub.execute_input": "2020-11-03T16:51:18.327920Z",
     "iopub.status.busy": "2020-11-03T16:51:18.317343Z",
     "iopub.status.idle": "2020-11-03T16:52:08.675731Z",
     "shell.execute_reply": "2020-11-03T16:52:08.676368Z"
    },
    "papermill": {
     "duration": 50.469611,
     "end_time": "2020-11-03T16:52:08.676535",
     "exception": false,
     "start_time": "2020-11-03T16:51:18.206924",
     "status": "completed"
    },
    "tags": []
   },
   "outputs": [
    {
     "data": {
      "text/plain": [
       "['president trump explains new america first raise act welfare new immigrants migrants favors english speaking immigrants protects jobs minorities us workers replaced video talking another campaign promise kept wonder democrats media allies fear president trump last time politician actually followed promise made american voters helped get elected president trump joined two republican senators wednesday champion legislation overhauling legal immigration america calling merit based system would significantly cut admissions next decade speaking white house president called significant reform immigration system half century candidate campaigned creating merit based immigration system protects u workers taxpayers today trump said joined georgia sen david perdue arkansas sen tom cotton republicans first introduced reforming american immigration strong economy raise act february said legislation aims reduce number green cards issued half million year trump perdue cotton argued tuesday low skilled unskilled immigration united states depressed wages according fact sheet released reporters new system would favor immigrants educated speak english high paying job offers would also reduce low skilled unskilled labor immigration trump said new immigrants must able financially support families raise act prevents new migrants new immigrants collecting welfare protects u workers displaced president said big thing going come immediately go collect welfare bill would prioritize immediate family members united states residents including spouses young children would end prioritization extended family members adult children residents legislation also eliminates diversity visa lottery system limits permanent resident status refugees year trump lamented country record numbers green cards low wage immigrants white house said million immigrants accepted united states legal permanent residency every year low unskilled workers among hardest hit president said minority workers said competing jobs brand new arrivals fair people citizens workers said administration also said percent immigrant households receive welfare benefits opposed percent native households country entire story fox news',\n",
       " 'terminally ill former miss wi last breath use voice tell mr trump really video sean hannity media personality able find amazing strong women stories every american voter hear trump really treats women genuine concern others former miss wi mellissa young story heartbreaking admiration respect donald trump unmistakeable watch former vp trump international senada adzem former miss usa carrie prajean boller speak hannity',\n",
       " 'cruz humiliated moderator lie presidents appointing justices election year almost immediately learning longtime supreme court justice antonin scalia passed away suddenly hunting trip texas sen ted cruz joined fellow republican senators boldly announcing would oppose nomination president obama made block process remaining days term justice scalia american hero owe nation senate ensure next president names replacement ted cruz tedcruz february republicans cruz included instantly greeted collective hell thinking american people ability appoint supreme court justice replace one retired passed away president right constitutional law way hundred years suggesting otherwise violation one country bedrock democratic principles republican debate held later day cruz asked justify torching constitution defensible like current president responded fair appoint new justice election year fact claimed one appointed last year presidency years instantly moderator john dickerson bullshit detector lit cruz lie egregious pants may well spontaneously combusted sorry interrupt nominees appointed election year years happened appointees election year cruz doubles lie years confirming example lbj nominated abe fordus fordus get confirmed defeated john dickerson drops hammer kennedy confirmed election year cruz comes back lie number kennedy confirmed immediately fact checked yet appointed confirmed words decades ago country faced similar dilemma stuck constitution legal team nbc news confirmed kennedy indeed nominated confirmed country fine record justice anthony kennedy confirmed nominated research mtp shawna thomas shawnanbcnews february usual cruz leg stand simply wants way want bothered worrying facts fortunately dickerson one rare debate moderators cruz spew lies get pushback watch video featured image via cbs news',\n",
       " 'russia revels trump victory looks sanctions relief moscow reuters mutual praise russian president vladimir putin u president elect donald trump likely disagree many things trump election win could hand moscow elusive prize lifting easing western sanctions rolling back sanctions imposed united states european union punish moscow annexation ukraine crimea support separatists eastern ukraine could spur investment russia flat lining economy might make even easier putin trying plug holes state budget inflicted low oil prices sanctions win fourth presidential term allowing show returned economy growth clearly chances sanctions lifted russia risen substantially charles robertson renaissance capital global chief economist said would improve investment climate russia russia rouble currency stocks gained trump election victory ukraine dollar denominated bonds tumbled multi month lows reflecting pessimism trump presidency means divided indebted country kremlin bracing fraught relations white house hillary clinton politician putin accused stirring protests state media portrayed anti russian warmonger trump portrayed positive light putin described talented kremlin backed media cast plucky political maverick still moscow believed republican candidate would win apart group trump supporting nationalists gathered moscow bar decorated triptych putin trump french front national leader marine le pen became clear russia parliament erupted applause putin told foreign ambassadors ready fully restore ties washington state tv ran clip russian doppelganger trump taunting cowed clinton lookalike margarita simonyan boss rt kremlin english language tv news channel said would drive around moscow u flag celebrate russian glee tempered recognition trump pre election promises might diluted deep contradictions moscow washington would remain even trump putin adopt friendly tone public trump attempts ease restrictions business russia could also constrained congress shown little patience kremlin military adventures executives western firms say biggest obstacle deals russia sanctions prospect could imposed zeal existing sanctions enforced trump white house send signal businesses taking lax approach investments could start flowing sanctions still place softer u stance could also weaken european sanctions resolve bloc measures already started look wobbly member states finding ways circumvent others saying time discuss moving business groups countries germany lobbying washington helped stiffen european resolve russia placed eurobond may year many european banks decided take part want fall foul u financial regulators america leader amazingly able hold europe together sanctions political analyst masha lipman told reuters donald trump white house think may changes something might beneficial russia putin needs sanctions lifted risk hurting election prospects russia central bank forecasting economic growth percent next year well level russian households come expect previous slumps recoveries driven foreign lending investment already signs economy hurting support putin trend likely grow months russian presidential election kremlin watchers said even u relations less antagonistic trump white house deal would involve hard bargaining sides russia seeking formal recognition world crimea part ukraine russian territory something got far apart handful nations also wants kiev implement peace deal covering eastern ukraine pro russian separatists hold sway syria russia helping president bashar al assad fight war air strikes military assistance moscow wants west drop ideas changing government abandon help says hardline islamists drop talk possible fly zones one possibility quid pro quo russia making concessions syria exchange united states ceding ground ukraine sanctions russia key point ukraine trump says america care ukraine russia wants hear right georgy bovt editor russkiy mir magazine told reuters syria easier reach deal think assad russia willing compromise ukraine important russia much made russian western media perceived similarities differences putin trump never met fond tough talking russian politicians suggested pair might able forge close working relationship similar one russian leader enjoyed former italian prime minister silvio berlusconi trump said might even meet putin inauguration putin spokesman said currently plans meeting people familiar men leadership styles advised caution however saying relatively thin skinned came criticism andrey kortunov director general russian international affairs council think tank close foreign ministry told reuters fact trump untested politician would also worry kremlin loose cannon never know expect said also concerns two men might alike problem putin trump macho sergei markov kremlin connected analyst former pro putin lawmaker told reuters could try take measure let happen',\n",
       " 'trump bid open u monuments development draws calls protection washington reuters trump administration call opening u national monuments economic development drawn comments public many expressing hope sites like utah bears ears maintain protected status president donald trump last month ordered interior department review national monuments created since eye rescinding shrinking size increase development opportunities would travesty leave landscape vulnerable uranium fossil fuel mining excessive road vehicle use navajo led bears ears inter tribal coalition wrote one public comment five tribe group oversees bears ears monument lobbied hard secure monument designation former president barack obama december interior secretary ryan zinke gave public may comment bears ears country newest monument july comment rest friday groups individuals posted comments government website created receive part review process high number given short time frame commerce department call public comments regulatory hurdles completed last month drew comments one public comment made anonymously urged zinke bow industry political pressure alter bears ears monument hard thing speak many said many industry groups politicians including utah governor two senators congressman want zinke reverse monument designations turn control protected lands states zinke due give recommendation trump bears ears june publish report monuments later conservation groups said support national monuments wider online comments suggest issue strikes nerve people said randi spivak center biological diversity many opponents monument designations posted comments arguing barring large swaths land development keeps public fully enjoying areas sweeping monument designations restrict eliminate opportunities responsible highway motorized recreation public lands said one anonymous comment self described member american motorcycle association']"
      ]
     },
     "execution_count": 39,
     "metadata": {},
     "output_type": "execute_result"
    }
   ],
   "source": [
    "titleTextCorpus = stem(train['Title and Text'])\n",
    "titleTextCorpus[:5]"
   ]
  },
  {
   "cell_type": "markdown",
   "metadata": {
    "papermill": {
     "duration": 0.080186,
     "end_time": "2020-11-03T16:52:08.837309",
     "exception": false,
     "start_time": "2020-11-03T16:52:08.757123",
     "status": "completed"
    },
    "tags": []
   },
   "source": [
    "## TD-IDF"
   ]
  },
  {
   "cell_type": "code",
   "execution_count": 40,
   "metadata": {
    "execution": {
     "iopub.execute_input": "2020-11-03T16:52:10.321400Z",
     "iopub.status.busy": "2020-11-03T16:52:10.316168Z",
     "iopub.status.idle": "2020-11-03T16:54:01.664577Z",
     "shell.execute_reply": "2020-11-03T16:54:01.663928Z"
    },
    "papermill": {
     "duration": 112.746162,
     "end_time": "2020-11-03T16:54:01.664718",
     "exception": false,
     "start_time": "2020-11-03T16:52:08.918556",
     "status": "completed"
    },
    "tags": []
   },
   "outputs": [],
   "source": [
    "from sklearn.feature_extraction.text import TfidfVectorizer\n",
    "tf = TfidfVectorizer(max_features=5000, ngram_range=(1, 3))\n",
    "X = tf.fit_transform(titleTextCorpus).toarray()\n",
    "y = train['class']"
   ]
  },
  {
   "cell_type": "code",
   "execution_count": 41,
   "metadata": {
    "execution": {
     "iopub.execute_input": "2020-11-03T16:54:01.832433Z",
     "iopub.status.busy": "2020-11-03T16:54:01.831625Z",
     "iopub.status.idle": "2020-11-03T16:54:02.283035Z",
     "shell.execute_reply": "2020-11-03T16:54:02.282355Z"
    },
    "papermill": {
     "duration": 0.537974,
     "end_time": "2020-11-03T16:54:02.283171",
     "exception": false,
     "start_time": "2020-11-03T16:54:01.745197",
     "status": "completed"
    },
    "tags": []
   },
   "outputs": [],
   "source": [
    "X_train, X_val, y_train, y_val = train_test_split(X, y, test_size = 0.33)"
   ]
  },
  {
   "cell_type": "markdown",
   "metadata": {
    "papermill": {
     "duration": 0.081525,
     "end_time": "2020-11-03T16:54:02.447626",
     "exception": false,
     "start_time": "2020-11-03T16:54:02.366101",
     "status": "completed"
    },
    "tags": []
   },
   "source": [
    "### Multinomial Naive Bayes"
   ]
  },
  {
   "cell_type": "code",
   "execution_count": 42,
   "metadata": {
    "execution": {
     "iopub.execute_input": "2020-11-03T16:54:02.627578Z",
     "iopub.status.busy": "2020-11-03T16:54:02.626751Z",
     "iopub.status.idle": "2020-11-03T16:54:03.507934Z",
     "shell.execute_reply": "2020-11-03T16:54:03.508471Z"
    },
    "papermill": {
     "duration": 0.970764,
     "end_time": "2020-11-03T16:54:03.508636",
     "exception": false,
     "start_time": "2020-11-03T16:54:02.537872",
     "status": "completed"
    },
    "tags": []
   },
   "outputs": [
    {
     "name": "stdout",
     "output_type": "stream",
     "text": [
      "Accuracy : 0.953\n"
     ]
    },
    {
     "data": {
      "image/png": "[encoded data removed]",
      "text/plain": [
       "<Figure size 432x288 with 2 Axes>"
      ]
     },
     "metadata": {
      "needs_background": "light"
     },
     "output_type": "display_data"
    }
   ],
   "source": [
    "from sklearn.naive_bayes import MultinomialNB\n",
    "classifierMNB = MultinomialNB()\n",
    "classifierMNB.fit(X_train, y_train) \n",
    "pred = classifierMNB.predict(X_val)\n",
    "score = metrics.accuracy_score(y_val, pred)\n",
    "print('Accuracy : %0.3f' %score)\n",
    "\n",
    "cm = plot_confusion_matrix(classifierMNB, X_val, y_val, cmap = 'coolwarm')"
   ]
  },
  {
   "cell_type": "markdown",
   "metadata": {
    "papermill": {
     "duration": 0.08221,
     "end_time": "2020-11-03T16:54:03.673969",
     "exception": false,
     "start_time": "2020-11-03T16:54:03.591759",
     "status": "completed"
    },
    "tags": []
   },
   "source": [
    "### Passive Aggressive Classifier"
   ]
  },
  {
   "cell_type": "code",
   "execution_count": 43,
   "metadata": {
    "execution": {
     "iopub.execute_input": "2020-11-03T16:54:03.848002Z",
     "iopub.status.busy": "2020-11-03T16:54:03.847191Z",
     "iopub.status.idle": "2020-11-03T16:54:25.729250Z",
     "shell.execute_reply": "2020-11-03T16:54:25.728458Z"
    },
    "papermill": {
     "duration": 21.972758,
     "end_time": "2020-11-03T16:54:25.729379",
     "exception": false,
     "start_time": "2020-11-03T16:54:03.756621",
     "status": "completed"
    },
    "tags": []
   },
   "outputs": [
    {
     "name": "stdout",
     "output_type": "stream",
     "text": [
      "Accuracy : 0.993\n"
     ]
    },
    {
     "data": {
      "image/png": "[encoded data removed]",
      "text/plain": [
       "<Figure size 432x288 with 2 Axes>"
      ]
     },
     "metadata": {
      "needs_background": "light"
     },
     "output_type": "display_data"
    }
   ],
   "source": [
    "from sklearn.linear_model import PassiveAggressiveClassifier\n",
    "classifierPAC = PassiveAggressiveClassifier(n_iter_no_change=50)\n",
    "classifierPAC.fit(X_train, y_train)\n",
    "pred = classifierPAC.predict(X_val)\n",
    "score = metrics.accuracy_score(y_val, pred)\n",
    "print('Accuracy : %0.3f'%score)\n",
    "cm = plot_confusion_matrix(classifierPAC, X_val, y_val, cmap = 'coolwarm')"
   ]
  },
  {
   "cell_type": "markdown",
   "metadata": {
    "papermill": {
     "duration": 0.084062,
     "end_time": "2020-11-03T16:54:25.896952",
     "exception": false,
     "start_time": "2020-11-03T16:54:25.812890",
     "status": "completed"
    },
    "tags": []
   },
   "source": [
    "As it can be seen, the classification accuracy when the models are applied to the **titles** only is the least followed by the **text**.\n",
    "\n",
    "The accuracy is highest when the **title** and **text** both are combined together. \n",
    "\n",
    "Compared with Naive Bayes, Passive Aggressive Classifier gives the best accuracy."
   ]
  },
  {
   "cell_type": "markdown",
   "metadata": {
    "papermill": {
     "duration": 0.083812,
     "end_time": "2020-11-03T16:54:26.064181",
     "exception": false,
     "start_time": "2020-11-03T16:54:25.980369",
     "status": "completed"
    },
    "tags": []
   },
   "source": [
    "**Do upvote if this notebook helped you in learning something new.**\n",
    "\n",
    "**Suggestions and discussions are welcome**"
   ]
  }
 ],
 "metadata": {
  "kernelspec": {
   "display_name": "Python 3",
   "language": "python",
   "name": "python3"
  },
  "language_info": {
   "codemirror_mode": {
    "name": "ipython",
    "version": 3
   },
   "file_extension": ".py",
   "mimetype": "text/x-python",
   "name": "python",
   "nbconvert_exporter": "python",
   "pygments_lexer": "ipython3",
   "version": "3.7.6"
  },
  "papermill": {
   "duration": 2706.758546,
   "end_time": "2020-11-03T16:54:27.338190",
   "environment_variables": {},
   "exception": null,
   "input_path": "__notebook__.ipynb",
   "output_path": "__notebook__.ipynb",
   "parameters": {},
   "start_time": "2020-11-03T16:09:20.579644",
   "version": "2.1.0"
  }
 },
 "nbformat": 4,
 "nbformat_minor": 4
}
